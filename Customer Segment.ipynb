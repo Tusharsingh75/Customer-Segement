{
 "cells": [
  {
   "cell_type": "code",
   "execution_count": 47,
   "metadata": {},
   "outputs": [],
   "source": [
    "import numpy as np\n",
    "\n",
    "# Pandas for DataFrames\n",
    "import pandas as pd\n",
    "#pd.set_option('display.max_columns', 100)\n",
    "\n",
    "# Matplotlib for visualization\n",
    "import matplotlib.pyplot as plt\n",
    "\n",
    "# display plots in the notebook\n",
    "%matplotlib inline\n",
    "\n",
    "# Seaborn for easier visualization\n",
    "import seaborn as sns"
   ]
  },
  {
   "cell_type": "markdown",
   "metadata": {},
   "source": [
    "## 1) Basic Info about Data."
   ]
  },
  {
   "cell_type": "code",
   "execution_count": 48,
   "metadata": {},
   "outputs": [],
   "source": [
    "df = pd.read_csv(\"cart_abandonment.csv\")"
   ]
  },
  {
   "cell_type": "code",
   "execution_count": 49,
   "metadata": {},
   "outputs": [
    {
     "data": {
      "text/html": [
       "<div>\n",
       "<style scoped>\n",
       "    .dataframe tbody tr th:only-of-type {\n",
       "        vertical-align: middle;\n",
       "    }\n",
       "\n",
       "    .dataframe tbody tr th {\n",
       "        vertical-align: top;\n",
       "    }\n",
       "\n",
       "    .dataframe thead th {\n",
       "        text-align: right;\n",
       "    }\n",
       "</style>\n",
       "<table border=\"1\" class=\"dataframe\">\n",
       "  <thead>\n",
       "    <tr style=\"text-align: right;\">\n",
       "      <th></th>\n",
       "      <th>ID</th>\n",
       "      <th>Is_Product_Details_viewed</th>\n",
       "      <th>Session_Activity_Count</th>\n",
       "      <th>No_Items_Added_InCart</th>\n",
       "      <th>No_Items_Removed_FromCart</th>\n",
       "      <th>No_Cart_Viewed</th>\n",
       "      <th>No_Checkout_Confirmed</th>\n",
       "      <th>No_Checkout_Initiated</th>\n",
       "      <th>No_Cart_Items_Viewed</th>\n",
       "      <th>No_Customer_Login</th>\n",
       "      <th>No_Page_Viewed</th>\n",
       "      <th>Customer_Segment_Type</th>\n",
       "      <th>Cart_Abandoned</th>\n",
       "    </tr>\n",
       "  </thead>\n",
       "  <tbody>\n",
       "    <tr>\n",
       "      <td>0</td>\n",
       "      <td>Session_ID_0</td>\n",
       "      <td>Yes</td>\n",
       "      <td>4</td>\n",
       "      <td>1</td>\n",
       "      <td>0.0</td>\n",
       "      <td>0</td>\n",
       "      <td>0</td>\n",
       "      <td>0</td>\n",
       "      <td>1.0</td>\n",
       "      <td>0</td>\n",
       "      <td>0</td>\n",
       "      <td>0</td>\n",
       "      <td>1</td>\n",
       "    </tr>\n",
       "    <tr>\n",
       "      <td>1</td>\n",
       "      <td>Session_ID_1</td>\n",
       "      <td>No</td>\n",
       "      <td>38</td>\n",
       "      <td>0</td>\n",
       "      <td>0.0</td>\n",
       "      <td>2</td>\n",
       "      <td>0</td>\n",
       "      <td>0</td>\n",
       "      <td>2.0</td>\n",
       "      <td>0</td>\n",
       "      <td>2</td>\n",
       "      <td>0</td>\n",
       "      <td>1</td>\n",
       "    </tr>\n",
       "    <tr>\n",
       "      <td>2</td>\n",
       "      <td>Session_ID_2</td>\n",
       "      <td>No</td>\n",
       "      <td>8</td>\n",
       "      <td>5</td>\n",
       "      <td>0.0</td>\n",
       "      <td>0</td>\n",
       "      <td>1</td>\n",
       "      <td>1</td>\n",
       "      <td>1.0</td>\n",
       "      <td>0</td>\n",
       "      <td>0</td>\n",
       "      <td>2</td>\n",
       "      <td>0</td>\n",
       "    </tr>\n",
       "    <tr>\n",
       "      <td>3</td>\n",
       "      <td>Session_ID_3</td>\n",
       "      <td>No</td>\n",
       "      <td>6</td>\n",
       "      <td>0</td>\n",
       "      <td>0.0</td>\n",
       "      <td>2</td>\n",
       "      <td>0</td>\n",
       "      <td>0</td>\n",
       "      <td>4.0</td>\n",
       "      <td>0</td>\n",
       "      <td>0</td>\n",
       "      <td>0</td>\n",
       "      <td>1</td>\n",
       "    </tr>\n",
       "    <tr>\n",
       "      <td>4</td>\n",
       "      <td>Session_ID_4</td>\n",
       "      <td>Yes</td>\n",
       "      <td>31</td>\n",
       "      <td>14</td>\n",
       "      <td>12.0</td>\n",
       "      <td>1</td>\n",
       "      <td>0</td>\n",
       "      <td>0</td>\n",
       "      <td>4.0</td>\n",
       "      <td>0</td>\n",
       "      <td>0</td>\n",
       "      <td>2</td>\n",
       "      <td>1</td>\n",
       "    </tr>\n",
       "  </tbody>\n",
       "</table>\n",
       "</div>"
      ],
      "text/plain": [
       "             ID Is_Product_Details_viewed  Session_Activity_Count  \\\n",
       "0  Session_ID_0                       Yes                       4   \n",
       "1  Session_ID_1                        No                      38   \n",
       "2  Session_ID_2                        No                       8   \n",
       "3  Session_ID_3                        No                       6   \n",
       "4  Session_ID_4                       Yes                      31   \n",
       "\n",
       "   No_Items_Added_InCart  No_Items_Removed_FromCart  No_Cart_Viewed  \\\n",
       "0                      1                        0.0               0   \n",
       "1                      0                        0.0               2   \n",
       "2                      5                        0.0               0   \n",
       "3                      0                        0.0               2   \n",
       "4                     14                       12.0               1   \n",
       "\n",
       "   No_Checkout_Confirmed  No_Checkout_Initiated   No_Cart_Items_Viewed  \\\n",
       "0                      0                       0                   1.0   \n",
       "1                      0                       0                   2.0   \n",
       "2                      1                       1                   1.0   \n",
       "3                      0                       0                   4.0   \n",
       "4                      0                       0                   4.0   \n",
       "\n",
       "   No_Customer_Login  No_Page_Viewed  Customer_Segment_Type  Cart_Abandoned  \n",
       "0                  0               0                      0               1  \n",
       "1                  0               2                      0               1  \n",
       "2                  0               0                      2               0  \n",
       "3                  0               0                      0               1  \n",
       "4                  0               0                      2               1  "
      ]
     },
     "execution_count": 49,
     "metadata": {},
     "output_type": "execute_result"
    }
   ],
   "source": [
    "df.head()"
   ]
  },
  {
   "cell_type": "code",
   "execution_count": 50,
   "metadata": {},
   "outputs": [
    {
     "data": {
      "text/plain": [
       "(4284, 13)"
      ]
     },
     "execution_count": 50,
     "metadata": {},
     "output_type": "execute_result"
    }
   ],
   "source": [
    "df.shape"
   ]
  },
  {
   "cell_type": "code",
   "execution_count": 51,
   "metadata": {},
   "outputs": [],
   "source": [
    "cart = df.drop(\"ID\",axis = 1)"
   ]
  },
  {
   "cell_type": "code",
   "execution_count": 52,
   "metadata": {},
   "outputs": [
    {
     "data": {
      "text/html": [
       "<div>\n",
       "<style scoped>\n",
       "    .dataframe tbody tr th:only-of-type {\n",
       "        vertical-align: middle;\n",
       "    }\n",
       "\n",
       "    .dataframe tbody tr th {\n",
       "        vertical-align: top;\n",
       "    }\n",
       "\n",
       "    .dataframe thead th {\n",
       "        text-align: right;\n",
       "    }\n",
       "</style>\n",
       "<table border=\"1\" class=\"dataframe\">\n",
       "  <thead>\n",
       "    <tr style=\"text-align: right;\">\n",
       "      <th></th>\n",
       "      <th>Is_Product_Details_viewed</th>\n",
       "      <th>Session_Activity_Count</th>\n",
       "      <th>No_Items_Added_InCart</th>\n",
       "      <th>No_Items_Removed_FromCart</th>\n",
       "      <th>No_Cart_Viewed</th>\n",
       "      <th>No_Checkout_Confirmed</th>\n",
       "      <th>No_Checkout_Initiated</th>\n",
       "      <th>No_Cart_Items_Viewed</th>\n",
       "      <th>No_Customer_Login</th>\n",
       "      <th>No_Page_Viewed</th>\n",
       "      <th>Customer_Segment_Type</th>\n",
       "      <th>Cart_Abandoned</th>\n",
       "    </tr>\n",
       "  </thead>\n",
       "  <tbody>\n",
       "    <tr>\n",
       "      <td>0</td>\n",
       "      <td>Yes</td>\n",
       "      <td>4</td>\n",
       "      <td>1</td>\n",
       "      <td>0.0</td>\n",
       "      <td>0</td>\n",
       "      <td>0</td>\n",
       "      <td>0</td>\n",
       "      <td>1.0</td>\n",
       "      <td>0</td>\n",
       "      <td>0</td>\n",
       "      <td>0</td>\n",
       "      <td>1</td>\n",
       "    </tr>\n",
       "    <tr>\n",
       "      <td>1</td>\n",
       "      <td>No</td>\n",
       "      <td>38</td>\n",
       "      <td>0</td>\n",
       "      <td>0.0</td>\n",
       "      <td>2</td>\n",
       "      <td>0</td>\n",
       "      <td>0</td>\n",
       "      <td>2.0</td>\n",
       "      <td>0</td>\n",
       "      <td>2</td>\n",
       "      <td>0</td>\n",
       "      <td>1</td>\n",
       "    </tr>\n",
       "    <tr>\n",
       "      <td>2</td>\n",
       "      <td>No</td>\n",
       "      <td>8</td>\n",
       "      <td>5</td>\n",
       "      <td>0.0</td>\n",
       "      <td>0</td>\n",
       "      <td>1</td>\n",
       "      <td>1</td>\n",
       "      <td>1.0</td>\n",
       "      <td>0</td>\n",
       "      <td>0</td>\n",
       "      <td>2</td>\n",
       "      <td>0</td>\n",
       "    </tr>\n",
       "    <tr>\n",
       "      <td>3</td>\n",
       "      <td>No</td>\n",
       "      <td>6</td>\n",
       "      <td>0</td>\n",
       "      <td>0.0</td>\n",
       "      <td>2</td>\n",
       "      <td>0</td>\n",
       "      <td>0</td>\n",
       "      <td>4.0</td>\n",
       "      <td>0</td>\n",
       "      <td>0</td>\n",
       "      <td>0</td>\n",
       "      <td>1</td>\n",
       "    </tr>\n",
       "    <tr>\n",
       "      <td>4</td>\n",
       "      <td>Yes</td>\n",
       "      <td>31</td>\n",
       "      <td>14</td>\n",
       "      <td>12.0</td>\n",
       "      <td>1</td>\n",
       "      <td>0</td>\n",
       "      <td>0</td>\n",
       "      <td>4.0</td>\n",
       "      <td>0</td>\n",
       "      <td>0</td>\n",
       "      <td>2</td>\n",
       "      <td>1</td>\n",
       "    </tr>\n",
       "  </tbody>\n",
       "</table>\n",
       "</div>"
      ],
      "text/plain": [
       "  Is_Product_Details_viewed  Session_Activity_Count  No_Items_Added_InCart  \\\n",
       "0                       Yes                       4                      1   \n",
       "1                        No                      38                      0   \n",
       "2                        No                       8                      5   \n",
       "3                        No                       6                      0   \n",
       "4                       Yes                      31                     14   \n",
       "\n",
       "   No_Items_Removed_FromCart  No_Cart_Viewed  No_Checkout_Confirmed  \\\n",
       "0                        0.0               0                      0   \n",
       "1                        0.0               2                      0   \n",
       "2                        0.0               0                      1   \n",
       "3                        0.0               2                      0   \n",
       "4                       12.0               1                      0   \n",
       "\n",
       "   No_Checkout_Initiated   No_Cart_Items_Viewed  No_Customer_Login  \\\n",
       "0                       0                   1.0                  0   \n",
       "1                       0                   2.0                  0   \n",
       "2                       1                   1.0                  0   \n",
       "3                       0                   4.0                  0   \n",
       "4                       0                   4.0                  0   \n",
       "\n",
       "   No_Page_Viewed  Customer_Segment_Type  Cart_Abandoned  \n",
       "0               0                      0               1  \n",
       "1               2                      0               1  \n",
       "2               0                      2               0  \n",
       "3               0                      0               1  \n",
       "4               0                      2               1  "
      ]
     },
     "execution_count": 52,
     "metadata": {},
     "output_type": "execute_result"
    }
   ],
   "source": [
    "cart.head()"
   ]
  },
  {
   "cell_type": "code",
   "execution_count": 53,
   "metadata": {},
   "outputs": [
    {
     "data": {
      "text/plain": [
       "Index(['Is_Product_Details_viewed', 'Session_Activity_Count',\n",
       "       'No_Items_Added_InCart', 'No_Items_Removed_FromCart', 'No_Cart_Viewed',\n",
       "       'No_Checkout_Confirmed', 'No_Checkout_Initiated ',\n",
       "       'No_Cart_Items_Viewed', 'No_Customer_Login', 'No_Page_Viewed',\n",
       "       'Customer_Segment_Type', 'Cart_Abandoned'],\n",
       "      dtype='object')"
      ]
     },
     "execution_count": 53,
     "metadata": {},
     "output_type": "execute_result"
    }
   ],
   "source": [
    "cart.columns"
   ]
  },
  {
   "cell_type": "code",
   "execution_count": 54,
   "metadata": {},
   "outputs": [
    {
     "name": "stdout",
     "output_type": "stream",
     "text": [
      "<class 'pandas.core.frame.DataFrame'>\n",
      "RangeIndex: 4284 entries, 0 to 4283\n",
      "Data columns (total 12 columns):\n",
      "Is_Product_Details_viewed    4284 non-null object\n",
      "Session_Activity_Count       4284 non-null int64\n",
      "No_Items_Added_InCart        4284 non-null int64\n",
      "No_Items_Removed_FromCart    4267 non-null float64\n",
      "No_Cart_Viewed               4284 non-null int64\n",
      "No_Checkout_Confirmed        4284 non-null int64\n",
      "No_Checkout_Initiated        4284 non-null int64\n",
      "No_Cart_Items_Viewed         4249 non-null float64\n",
      "No_Customer_Login            4284 non-null int64\n",
      "No_Page_Viewed               4284 non-null int64\n",
      "Customer_Segment_Type        4284 non-null int64\n",
      "Cart_Abandoned               4284 non-null int64\n",
      "dtypes: float64(2), int64(9), object(1)\n",
      "memory usage: 401.8+ KB\n"
     ]
    }
   ],
   "source": [
    "cart.info()"
   ]
  },
  {
   "cell_type": "markdown",
   "metadata": {},
   "source": [
    "## 2) EDA"
   ]
  },
  {
   "cell_type": "code",
   "execution_count": 56,
   "metadata": {},
   "outputs": [
    {
     "data": {
      "image/png": "[encoded data removed]",
      "text/plain": [
       "<Figure size 432x288 with 1 Axes>"
      ]
     },
     "metadata": {
      "needs_background": "light"
     },
     "output_type": "display_data"
    }
   ],
   "source": [
    "#Target Variable Count Plot\n",
    "sns.countplot(x = \"Cart_Abandoned\" ,data =cart)\n",
    "plt.show()"
   ]
  },
  {
   "cell_type": "code",
   "execution_count": 57,
   "metadata": {},
   "outputs": [
    {
     "data": {
      "text/plain": [
       "Is_Product_Details_viewed     object\n",
       "Session_Activity_Count         int64\n",
       "No_Items_Added_InCart          int64\n",
       "No_Items_Removed_FromCart    float64\n",
       "No_Cart_Viewed                 int64\n",
       "No_Checkout_Confirmed          int64\n",
       "No_Checkout_Initiated          int64\n",
       "No_Cart_Items_Viewed         float64\n",
       "No_Customer_Login              int64\n",
       "No_Page_Viewed                 int64\n",
       "Customer_Segment_Type          int64\n",
       "Cart_Abandoned                 int64\n",
       "dtype: object"
      ]
     },
     "execution_count": 57,
     "metadata": {},
     "output_type": "execute_result"
    }
   ],
   "source": [
    "cart.dtypes"
   ]
  },
  {
   "cell_type": "code",
   "execution_count": 58,
   "metadata": {},
   "outputs": [
    {
     "data": {
      "text/html": [
       "<div>\n",
       "<style scoped>\n",
       "    .dataframe tbody tr th:only-of-type {\n",
       "        vertical-align: middle;\n",
       "    }\n",
       "\n",
       "    .dataframe tbody tr th {\n",
       "        vertical-align: top;\n",
       "    }\n",
       "\n",
       "    .dataframe thead th {\n",
       "        text-align: right;\n",
       "    }\n",
       "</style>\n",
       "<table border=\"1\" class=\"dataframe\">\n",
       "  <thead>\n",
       "    <tr style=\"text-align: right;\">\n",
       "      <th></th>\n",
       "      <th>Session_Activity_Count</th>\n",
       "      <th>No_Items_Added_InCart</th>\n",
       "      <th>No_Items_Removed_FromCart</th>\n",
       "      <th>No_Cart_Viewed</th>\n",
       "      <th>No_Checkout_Confirmed</th>\n",
       "      <th>No_Checkout_Initiated</th>\n",
       "      <th>No_Cart_Items_Viewed</th>\n",
       "      <th>No_Customer_Login</th>\n",
       "      <th>No_Page_Viewed</th>\n",
       "      <th>Customer_Segment_Type</th>\n",
       "      <th>Cart_Abandoned</th>\n",
       "    </tr>\n",
       "  </thead>\n",
       "  <tbody>\n",
       "    <tr>\n",
       "      <td>count</td>\n",
       "      <td>4284.000000</td>\n",
       "      <td>4284.000000</td>\n",
       "      <td>4267.000000</td>\n",
       "      <td>4284.000000</td>\n",
       "      <td>4284.000000</td>\n",
       "      <td>4284.000000</td>\n",
       "      <td>4249.000000</td>\n",
       "      <td>4284.000000</td>\n",
       "      <td>4284.000000</td>\n",
       "      <td>4284.000000</td>\n",
       "      <td>4284.000000</td>\n",
       "    </tr>\n",
       "    <tr>\n",
       "      <td>mean</td>\n",
       "      <td>13.878151</td>\n",
       "      <td>3.484827</td>\n",
       "      <td>0.865948</td>\n",
       "      <td>1.445145</td>\n",
       "      <td>0.187208</td>\n",
       "      <td>0.980159</td>\n",
       "      <td>2.292775</td>\n",
       "      <td>0.169234</td>\n",
       "      <td>2.348506</td>\n",
       "      <td>0.533380</td>\n",
       "      <td>0.856209</td>\n",
       "    </tr>\n",
       "    <tr>\n",
       "      <td>std</td>\n",
       "      <td>15.934084</td>\n",
       "      <td>6.783328</td>\n",
       "      <td>3.070637</td>\n",
       "      <td>2.082812</td>\n",
       "      <td>0.517691</td>\n",
       "      <td>1.140525</td>\n",
       "      <td>6.071525</td>\n",
       "      <td>0.400299</td>\n",
       "      <td>2.868862</td>\n",
       "      <td>0.908392</td>\n",
       "      <td>0.350918</td>\n",
       "    </tr>\n",
       "    <tr>\n",
       "      <td>min</td>\n",
       "      <td>0.000000</td>\n",
       "      <td>0.000000</td>\n",
       "      <td>0.000000</td>\n",
       "      <td>0.000000</td>\n",
       "      <td>0.000000</td>\n",
       "      <td>0.000000</td>\n",
       "      <td>0.000000</td>\n",
       "      <td>0.000000</td>\n",
       "      <td>0.000000</td>\n",
       "      <td>0.000000</td>\n",
       "      <td>0.000000</td>\n",
       "    </tr>\n",
       "    <tr>\n",
       "      <td>25%</td>\n",
       "      <td>6.000000</td>\n",
       "      <td>1.000000</td>\n",
       "      <td>0.000000</td>\n",
       "      <td>0.000000</td>\n",
       "      <td>0.000000</td>\n",
       "      <td>0.000000</td>\n",
       "      <td>1.000000</td>\n",
       "      <td>0.000000</td>\n",
       "      <td>1.000000</td>\n",
       "      <td>0.000000</td>\n",
       "      <td>1.000000</td>\n",
       "    </tr>\n",
       "    <tr>\n",
       "      <td>50%</td>\n",
       "      <td>10.000000</td>\n",
       "      <td>2.000000</td>\n",
       "      <td>0.000000</td>\n",
       "      <td>1.000000</td>\n",
       "      <td>0.000000</td>\n",
       "      <td>1.000000</td>\n",
       "      <td>1.000000</td>\n",
       "      <td>0.000000</td>\n",
       "      <td>2.000000</td>\n",
       "      <td>0.000000</td>\n",
       "      <td>1.000000</td>\n",
       "    </tr>\n",
       "    <tr>\n",
       "      <td>75%</td>\n",
       "      <td>17.000000</td>\n",
       "      <td>5.000000</td>\n",
       "      <td>0.000000</td>\n",
       "      <td>2.000000</td>\n",
       "      <td>0.000000</td>\n",
       "      <td>1.000000</td>\n",
       "      <td>2.000000</td>\n",
       "      <td>0.000000</td>\n",
       "      <td>3.000000</td>\n",
       "      <td>2.000000</td>\n",
       "      <td>1.000000</td>\n",
       "    </tr>\n",
       "    <tr>\n",
       "      <td>max</td>\n",
       "      <td>436.000000</td>\n",
       "      <td>225.000000</td>\n",
       "      <td>50.000000</td>\n",
       "      <td>34.000000</td>\n",
       "      <td>11.000000</td>\n",
       "      <td>14.000000</td>\n",
       "      <td>256.000000</td>\n",
       "      <td>3.000000</td>\n",
       "      <td>35.000000</td>\n",
       "      <td>3.000000</td>\n",
       "      <td>1.000000</td>\n",
       "    </tr>\n",
       "  </tbody>\n",
       "</table>\n",
       "</div>"
      ],
      "text/plain": [
       "       Session_Activity_Count  No_Items_Added_InCart  \\\n",
       "count             4284.000000            4284.000000   \n",
       "mean                13.878151               3.484827   \n",
       "std                 15.934084               6.783328   \n",
       "min                  0.000000               0.000000   \n",
       "25%                  6.000000               1.000000   \n",
       "50%                 10.000000               2.000000   \n",
       "75%                 17.000000               5.000000   \n",
       "max                436.000000             225.000000   \n",
       "\n",
       "       No_Items_Removed_FromCart  No_Cart_Viewed  No_Checkout_Confirmed  \\\n",
       "count                4267.000000     4284.000000            4284.000000   \n",
       "mean                    0.865948        1.445145               0.187208   \n",
       "std                     3.070637        2.082812               0.517691   \n",
       "min                     0.000000        0.000000               0.000000   \n",
       "25%                     0.000000        0.000000               0.000000   \n",
       "50%                     0.000000        1.000000               0.000000   \n",
       "75%                     0.000000        2.000000               0.000000   \n",
       "max                    50.000000       34.000000              11.000000   \n",
       "\n",
       "       No_Checkout_Initiated   No_Cart_Items_Viewed  No_Customer_Login  \\\n",
       "count             4284.000000           4249.000000        4284.000000   \n",
       "mean                 0.980159              2.292775           0.169234   \n",
       "std                  1.140525              6.071525           0.400299   \n",
       "min                  0.000000              0.000000           0.000000   \n",
       "25%                  0.000000              1.000000           0.000000   \n",
       "50%                  1.000000              1.000000           0.000000   \n",
       "75%                  1.000000              2.000000           0.000000   \n",
       "max                 14.000000            256.000000           3.000000   \n",
       "\n",
       "       No_Page_Viewed  Customer_Segment_Type  Cart_Abandoned  \n",
       "count     4284.000000            4284.000000     4284.000000  \n",
       "mean         2.348506               0.533380        0.856209  \n",
       "std          2.868862               0.908392        0.350918  \n",
       "min          0.000000               0.000000        0.000000  \n",
       "25%          1.000000               0.000000        1.000000  \n",
       "50%          2.000000               0.000000        1.000000  \n",
       "75%          3.000000               2.000000        1.000000  \n",
       "max         35.000000               3.000000        1.000000  "
      ]
     },
     "execution_count": 58,
     "metadata": {},
     "output_type": "execute_result"
    }
   ],
   "source": [
    "cart.describe()"
   ]
  },
  {
   "cell_type": "code",
   "execution_count": 59,
   "metadata": {},
   "outputs": [
    {
     "data": {
      "image/png": "[encoded data removed]",
      "text/plain": [
       "<Figure size 2160x1080 with 12 Axes>"
      ]
     },
     "metadata": {
      "needs_background": "light"
     },
     "output_type": "display_data"
    }
   ],
   "source": [
    "# Plot histogram grid\n",
    "cart.hist(figsize=(30,15), xrot=-45, edgecolor='black')  \n",
    "plt.show()"
   ]
  },
  {
   "cell_type": "code",
   "execution_count": 9,
   "metadata": {},
   "outputs": [],
   "source": [
    "#Creating a list with names of all numerical columns and removing Customer_Segment_Type as it should be categorical.\n",
    "numeric_features =df.select_dtypes(include=['int64','float64']).columns.tolist()\n",
    "numeric_features.remove(\"Cart_Abandoned\")   #Also removing Cart_Abandoned as it is the target variable.\n",
    "numeric_features.remove(\"Customer_Segment_Type\")\n"
   ]
  },
  {
   "cell_type": "code",
   "execution_count": 10,
   "metadata": {},
   "outputs": [
    {
     "data": {
      "text/plain": [
       "['Session_Activity_Count',\n",
       " 'No_Items_Added_InCart',\n",
       " 'No_Items_Removed_FromCart',\n",
       " 'No_Cart_Viewed',\n",
       " 'No_Checkout_Confirmed',\n",
       " 'No_Checkout_Initiated ',\n",
       " 'No_Cart_Items_Viewed',\n",
       " 'No_Customer_Login',\n",
       " 'No_Page_Viewed']"
      ]
     },
     "execution_count": 10,
     "metadata": {},
     "output_type": "execute_result"
    }
   ],
   "source": [
    "numeric_features"
   ]
  },
  {
   "cell_type": "code",
   "execution_count": 60,
   "metadata": {},
   "outputs": [
    {
     "data": {
      "image/png": "[encoded data removed]",
      "text/plain": [
       "<Figure size 2160x1080 with 9 Axes>"
      ]
     },
     "metadata": {
      "needs_background": "light"
     },
     "output_type": "display_data"
    }
   ],
   "source": [
    "fig = plt.figure(figsize=(30,15))\n",
    "for index,var in enumerate(numeric_features):#Enumarte returns values as well as the index of the value\n",
    "    plt.subplot(4,3,index+1) \n",
    "    plt.subplots_adjust(hspace=0.5)\n",
    "    plt.xticks(rotation=45)\n",
    "    sns.scatterplot(x = \"Cart_Abandoned\",y = var,data = cart)\n",
    "    plt.plot()"
   ]
  },
  {
   "cell_type": "code",
   "execution_count": 61,
   "metadata": {},
   "outputs": [
    {
     "data": {
      "text/plain": [
       "<matplotlib.axes._subplots.AxesSubplot at 0x20758ba8358>"
      ]
     },
     "execution_count": 61,
     "metadata": {},
     "output_type": "execute_result"
    },
    {
     "data": {
      "image/png": "[encoded data removed]",
      "text/plain": [
       "<Figure size 432x288 with 1 Axes>"
      ]
     },
     "metadata": {
      "needs_background": "light"
     },
     "output_type": "display_data"
    }
   ],
   "source": [
    "#Univariate analysis of categorical Variables\n",
    "sns.countplot(y = \"Customer_Segment_Type\",data = cart)"
   ]
  },
  {
   "cell_type": "code",
   "execution_count": 62,
   "metadata": {},
   "outputs": [
    {
     "data": {
      "text/plain": [
       "<matplotlib.axes._subplots.AxesSubplot at 0x20758c09518>"
      ]
     },
     "execution_count": 62,
     "metadata": {},
     "output_type": "execute_result"
    },
    {
     "data": {
      "image/png": "[encoded data removed]",
      "text/plain": [
       "<Figure size 432x288 with 1 Axes>"
      ]
     },
     "metadata": {
      "needs_background": "light"
     },
     "output_type": "display_data"
    }
   ],
   "source": [
    "sns.countplot(y=\"Is_Product_Details_viewed\",data = cart)"
   ]
  },
  {
   "cell_type": "code",
   "execution_count": 64,
   "metadata": {},
   "outputs": [],
   "source": [
    "categorical = [\"Customer_Segment_Type\",\"Is_Product_Details_viewed\"]\n"
   ]
  },
  {
   "cell_type": "code",
   "execution_count": 65,
   "metadata": {},
   "outputs": [
    {
     "data": {
      "image/png": "[encoded data removed]",
      "text/plain": [
       "<Figure size 1800x720 with 2 Axes>"
      ]
     },
     "metadata": {
      "needs_background": "light"
     },
     "output_type": "display_data"
    }
   ],
   "source": [
    "# Bi-Variate Analysis between Categorical and Target Variables.\n",
    "plt.figure(figsize=(25,10))\n",
    "for index,cat_feat in enumerate(categorical):\n",
    "    plt.subplot(1,2,index+1)\n",
    "    plt.subplots_adjust(hspace=0.5)\n",
    "    plt.xticks(rotation=45)\n",
    "    sns.countplot(x = cat_feat,hue = \"Cart_Abandoned\", data=cart)"
   ]
  },
  {
   "cell_type": "code",
   "execution_count": 66,
   "metadata": {},
   "outputs": [
    {
     "data": {
      "text/html": [
       "<div>\n",
       "<style scoped>\n",
       "    .dataframe tbody tr th:only-of-type {\n",
       "        vertical-align: middle;\n",
       "    }\n",
       "\n",
       "    .dataframe tbody tr th {\n",
       "        vertical-align: top;\n",
       "    }\n",
       "\n",
       "    .dataframe thead th {\n",
       "        text-align: right;\n",
       "    }\n",
       "</style>\n",
       "<table border=\"1\" class=\"dataframe\">\n",
       "  <thead>\n",
       "    <tr style=\"text-align: right;\">\n",
       "      <th>Cart_Abandoned</th>\n",
       "      <th>0</th>\n",
       "      <th>1</th>\n",
       "    </tr>\n",
       "    <tr>\n",
       "      <th>Customer_Segment_Type</th>\n",
       "      <th></th>\n",
       "      <th></th>\n",
       "    </tr>\n",
       "  </thead>\n",
       "  <tbody>\n",
       "    <tr>\n",
       "      <td>0</td>\n",
       "      <td>0.132135</td>\n",
       "      <td>0.867865</td>\n",
       "    </tr>\n",
       "    <tr>\n",
       "      <td>1</td>\n",
       "      <td>0.000000</td>\n",
       "      <td>1.000000</td>\n",
       "    </tr>\n",
       "    <tr>\n",
       "      <td>2</td>\n",
       "      <td>0.178435</td>\n",
       "      <td>0.821565</td>\n",
       "    </tr>\n",
       "    <tr>\n",
       "      <td>3</td>\n",
       "      <td>0.161290</td>\n",
       "      <td>0.838710</td>\n",
       "    </tr>\n",
       "  </tbody>\n",
       "</table>\n",
       "</div>"
      ],
      "text/plain": [
       "Cart_Abandoned                0         1\n",
       "Customer_Segment_Type                    \n",
       "0                      0.132135  0.867865\n",
       "1                      0.000000  1.000000\n",
       "2                      0.178435  0.821565\n",
       "3                      0.161290  0.838710"
      ]
     },
     "execution_count": 66,
     "metadata": {},
     "output_type": "execute_result"
    }
   ],
   "source": [
    "pd.crosstab(index=cart[\"Customer_Segment_Type\"],columns=cart[\"Cart_Abandoned\"],normalize=\"index\")"
   ]
  },
  {
   "cell_type": "code",
   "execution_count": 67,
   "metadata": {},
   "outputs": [
    {
     "data": {
      "text/html": [
       "<div>\n",
       "<style scoped>\n",
       "    .dataframe tbody tr th:only-of-type {\n",
       "        vertical-align: middle;\n",
       "    }\n",
       "\n",
       "    .dataframe tbody tr th {\n",
       "        vertical-align: top;\n",
       "    }\n",
       "\n",
       "    .dataframe thead th {\n",
       "        text-align: right;\n",
       "    }\n",
       "</style>\n",
       "<table border=\"1\" class=\"dataframe\">\n",
       "  <thead>\n",
       "    <tr style=\"text-align: right;\">\n",
       "      <th>Cart_Abandoned</th>\n",
       "      <th>0</th>\n",
       "      <th>1</th>\n",
       "    </tr>\n",
       "    <tr>\n",
       "      <th>Is_Product_Details_viewed</th>\n",
       "      <th></th>\n",
       "      <th></th>\n",
       "    </tr>\n",
       "  </thead>\n",
       "  <tbody>\n",
       "    <tr>\n",
       "      <td>No</td>\n",
       "      <td>0.183800</td>\n",
       "      <td>0.816200</td>\n",
       "    </tr>\n",
       "    <tr>\n",
       "      <td>Yes</td>\n",
       "      <td>0.042149</td>\n",
       "      <td>0.957851</td>\n",
       "    </tr>\n",
       "  </tbody>\n",
       "</table>\n",
       "</div>"
      ],
      "text/plain": [
       "Cart_Abandoned                    0         1\n",
       "Is_Product_Details_viewed                    \n",
       "No                         0.183800  0.816200\n",
       "Yes                        0.042149  0.957851"
      ]
     },
     "execution_count": 67,
     "metadata": {},
     "output_type": "execute_result"
    }
   ],
   "source": [
    "pd.crosstab(index=cart[\"Is_Product_Details_viewed\"],columns=cart[\"Cart_Abandoned\"],normalize=\"index\")"
   ]
  },
  {
   "cell_type": "code",
   "execution_count": 68,
   "metadata": {},
   "outputs": [
    {
     "data": {
      "image/png": "[encoded data removed]",
      "text/plain": [
       "<Figure size 1440x1080 with 9 Axes>"
      ]
     },
     "metadata": {
      "needs_background": "light"
     },
     "output_type": "display_data"
    }
   ],
   "source": [
    "# Bi-Variate Analysis of numeric variables\n",
    "fig = plt.figure(figsize=(20,15))\n",
    "for index,var in enumerate(numeric_features):#Enumarte returns values as well as the index of the value\n",
    "    plt.subplot(3,3,index+1) # Third arg specifies the number of the subplot to be printed\n",
    "    plt.subplots_adjust(hspace=0.5)\n",
    "    plt.xticks(rotation=45)\n",
    "    sns.boxplot(x = \"Cart_Abandoned\",y = var, data=cart)\n",
    "    plt.plot()"
   ]
  },
  {
   "cell_type": "code",
   "execution_count": null,
   "metadata": {},
   "outputs": [],
   "source": []
  },
  {
   "cell_type": "markdown",
   "metadata": {},
   "source": [
    "## 3)Pre-Processing"
   ]
  },
  {
   "cell_type": "code",
   "execution_count": 69,
   "metadata": {},
   "outputs": [],
   "source": [
    "#As there are so many outliers we have to remove the outliers We are removing all those values who are more than or less than mean+- 3*s.d.\n",
    "x = []\n",
    "for var in numeric_features:\n",
    "    y =cart[var].mean() + (3* cart[var].std())\n",
    "    x.append(tuple([var,y]))\n",
    "#As in all the columns mean-3*s.d. is less than zero and there is no negative value in data, so we will only remove mean+ 3*s.d.\n",
    "    "
   ]
  },
  {
   "cell_type": "code",
   "execution_count": 70,
   "metadata": {
    "scrolled": true
   },
   "outputs": [
    {
     "data": {
      "text/plain": [
       "[('Session_Activity_Count', 61.68040257838777),\n",
       " ('No_Items_Added_InCart', 23.83481267280342),\n",
       " ('No_Items_Removed_FromCart', 10.077860348711523),\n",
       " ('No_Cart_Viewed', 7.693581019111776),\n",
       " ('No_Checkout_Confirmed', 1.74027986388708),\n",
       " ('No_Checkout_Initiated ', 4.4017333495635),\n",
       " ('No_Cart_Items_Viewed', 20.507349640155812),\n",
       " ('No_Customer_Login', 1.370131546062666),\n",
       " ('No_Page_Viewed', 10.955093199786285)]"
      ]
     },
     "execution_count": 70,
     "metadata": {},
     "output_type": "execute_result"
    }
   ],
   "source": [
    "x  #This list gives us tuples and in each tuple is the column name and mean+3*s.d. for that column "
   ]
  },
  {
   "cell_type": "code",
   "execution_count": 113,
   "metadata": {},
   "outputs": [],
   "source": [
    "#Now we are creating a new data set by removing outliers:\n",
    "new = cart[(cart[\"Session_Activity_Count\"]<62) &( cart[\"No_Items_Added_InCart\"]<4) & (cart[\"No_Items_Removed_FromCart\"]<11) & (cart[\"No_Cart_Viewed\"]<8) & (cart[\"No_Checkout_Confirmed\"]<2) & (cart[\"No_Checkout_Initiated \"]<5) & (cart[\"No_Cart_Items_Viewed\"]<21) & (cart[\"No_Customer_Login\"]<2) & (cart[\"No_Page_Viewed\"]<11)]"
   ]
  },
  {
   "cell_type": "code",
   "execution_count": 114,
   "metadata": {},
   "outputs": [
    {
     "data": {
      "text/plain": [
       "(2648, 12)"
      ]
     },
     "execution_count": 114,
     "metadata": {},
     "output_type": "execute_result"
    }
   ],
   "source": [
    "new.shape"
   ]
  },
  {
   "cell_type": "code",
   "execution_count": 115,
   "metadata": {},
   "outputs": [
    {
     "name": "stderr",
     "output_type": "stream",
     "text": [
      "c:\\users\\siddharth\\appdata\\local\\programs\\python\\python36\\lib\\site-packages\\ipykernel_launcher.py:2: SettingWithCopyWarning: \n",
      "A value is trying to be set on a copy of a slice from a DataFrame\n",
      "\n",
      "See the caveats in the documentation: http://pandas.pydata.org/pandas-docs/stable/user_guide/indexing.html#returning-a-view-versus-a-copy\n",
      "  \n"
     ]
    }
   ],
   "source": [
    "#Removing duplicates from the data:\n",
    "new.drop_duplicates(inplace=True)"
   ]
  },
  {
   "cell_type": "code",
   "execution_count": 116,
   "metadata": {},
   "outputs": [
    {
     "data": {
      "text/plain": [
       "(1774, 12)"
      ]
     },
     "execution_count": 116,
     "metadata": {},
     "output_type": "execute_result"
    }
   ],
   "source": [
    "new.shape"
   ]
  },
  {
   "cell_type": "code",
   "execution_count": 117,
   "metadata": {},
   "outputs": [
    {
     "data": {
      "text/plain": [
       "Is_Product_Details_viewed    0\n",
       "Session_Activity_Count       0\n",
       "No_Items_Added_InCart        0\n",
       "No_Items_Removed_FromCart    0\n",
       "No_Cart_Viewed               0\n",
       "No_Checkout_Confirmed        0\n",
       "No_Checkout_Initiated        0\n",
       "No_Cart_Items_Viewed         0\n",
       "No_Customer_Login            0\n",
       "No_Page_Viewed               0\n",
       "Customer_Segment_Type        0\n",
       "Cart_Abandoned               0\n",
       "dtype: int64"
      ]
     },
     "execution_count": 117,
     "metadata": {},
     "output_type": "execute_result"
    }
   ],
   "source": [
    "#Checking for missing Values in each column.\n",
    "new.isna().sum()"
   ]
  },
  {
   "cell_type": "code",
   "execution_count": null,
   "metadata": {},
   "outputs": [],
   "source": [
    "#Now we will do chi-sq test for categorical independant variable  Vs.  categorical dependant variable"
   ]
  },
  {
   "cell_type": "code",
   "execution_count": 118,
   "metadata": {},
   "outputs": [],
   "source": [
    "from scipy import stats\n",
    "table_cust_segment = pd.crosstab(index=new[\"Customer_Segment_Type\"],columns=new[\"Cart_Abandoned\"])"
   ]
  },
  {
   "cell_type": "code",
   "execution_count": 119,
   "metadata": {},
   "outputs": [
    {
     "data": {
      "text/html": [
       "<div>\n",
       "<style scoped>\n",
       "    .dataframe tbody tr th:only-of-type {\n",
       "        vertical-align: middle;\n",
       "    }\n",
       "\n",
       "    .dataframe tbody tr th {\n",
       "        vertical-align: top;\n",
       "    }\n",
       "\n",
       "    .dataframe thead th {\n",
       "        text-align: right;\n",
       "    }\n",
       "</style>\n",
       "<table border=\"1\" class=\"dataframe\">\n",
       "  <thead>\n",
       "    <tr style=\"text-align: right;\">\n",
       "      <th>Cart_Abandoned</th>\n",
       "      <th>0</th>\n",
       "      <th>1</th>\n",
       "    </tr>\n",
       "    <tr>\n",
       "      <th>Customer_Segment_Type</th>\n",
       "      <th></th>\n",
       "      <th></th>\n",
       "    </tr>\n",
       "  </thead>\n",
       "  <tbody>\n",
       "    <tr>\n",
       "      <td>0</td>\n",
       "      <td>274</td>\n",
       "      <td>1500</td>\n",
       "    </tr>\n",
       "  </tbody>\n",
       "</table>\n",
       "</div>"
      ],
      "text/plain": [
       "Cart_Abandoned           0     1\n",
       "Customer_Segment_Type           \n",
       "0                      274  1500"
      ]
     },
     "execution_count": 119,
     "metadata": {},
     "output_type": "execute_result"
    }
   ],
   "source": [
    "table_cust_segment"
   ]
  },
  {
   "cell_type": "code",
   "execution_count": 120,
   "metadata": {},
   "outputs": [
    {
     "data": {
      "text/plain": [
       "0    1774\n",
       "Name: Customer_Segment_Type, dtype: int64"
      ]
     },
     "execution_count": 120,
     "metadata": {},
     "output_type": "execute_result"
    }
   ],
   "source": [
    "new[\"Customer_Segment_Type\"].value_counts()\n",
    "#AS THERE IS ONLY ONE CATEGORY OF CUSTOMER SEGMENT IN FINAL DATA SET, CHISQ TEST IS NOT REQUIRED."
   ]
  },
  {
   "cell_type": "code",
   "execution_count": 121,
   "metadata": {},
   "outputs": [],
   "source": [
    "# CHISQ TEST FOR PRODUCT_DETAILS_VIEWED:\n",
    "table_product_details = pd.crosstab(index=new[\"Is_Product_Details_viewed\"],columns=new[\"Cart_Abandoned\"])"
   ]
  },
  {
   "cell_type": "code",
   "execution_count": 122,
   "metadata": {},
   "outputs": [
    {
     "data": {
      "text/html": [
       "<div>\n",
       "<style scoped>\n",
       "    .dataframe tbody tr th:only-of-type {\n",
       "        vertical-align: middle;\n",
       "    }\n",
       "\n",
       "    .dataframe tbody tr th {\n",
       "        vertical-align: top;\n",
       "    }\n",
       "\n",
       "    .dataframe thead th {\n",
       "        text-align: right;\n",
       "    }\n",
       "</style>\n",
       "<table border=\"1\" class=\"dataframe\">\n",
       "  <thead>\n",
       "    <tr style=\"text-align: right;\">\n",
       "      <th>Cart_Abandoned</th>\n",
       "      <th>0</th>\n",
       "      <th>1</th>\n",
       "    </tr>\n",
       "    <tr>\n",
       "      <th>Is_Product_Details_viewed</th>\n",
       "      <th></th>\n",
       "      <th></th>\n",
       "    </tr>\n",
       "  </thead>\n",
       "  <tbody>\n",
       "    <tr>\n",
       "      <td>No</td>\n",
       "      <td>251</td>\n",
       "      <td>1011</td>\n",
       "    </tr>\n",
       "    <tr>\n",
       "      <td>Yes</td>\n",
       "      <td>23</td>\n",
       "      <td>489</td>\n",
       "    </tr>\n",
       "  </tbody>\n",
       "</table>\n",
       "</div>"
      ],
      "text/plain": [
       "Cart_Abandoned               0     1\n",
       "Is_Product_Details_viewed           \n",
       "No                         251  1011\n",
       "Yes                         23   489"
      ]
     },
     "execution_count": 122,
     "metadata": {},
     "output_type": "execute_result"
    }
   ],
   "source": [
    "table_product_details"
   ]
  },
  {
   "cell_type": "code",
   "execution_count": 123,
   "metadata": {},
   "outputs": [
    {
     "data": {
      "text/plain": [
       "No     1262\n",
       "Yes     512\n",
       "Name: Is_Product_Details_viewed, dtype: int64"
      ]
     },
     "execution_count": 123,
     "metadata": {},
     "output_type": "execute_result"
    }
   ],
   "source": [
    "new[\"Is_Product_Details_viewed\"].value_counts()"
   ]
  },
  {
   "cell_type": "code",
   "execution_count": 124,
   "metadata": {},
   "outputs": [],
   "source": [
    "obs = np.array([table_product_details.iloc[0][0:2].values,table_product_details.iloc[1][0:2].values])"
   ]
  },
  {
   "cell_type": "code",
   "execution_count": 125,
   "metadata": {},
   "outputs": [
    {
     "data": {
      "text/plain": [
       "(64.94227499706437, 7.712458768585805e-16, 1)"
      ]
     },
     "execution_count": 125,
     "metadata": {},
     "output_type": "execute_result"
    }
   ],
   "source": [
    "stats.chi2_contingency(obs)[0:3]#As the p-value of result is 7.712e-16 this means that this column is significant."
   ]
  },
  {
   "cell_type": "code",
   "execution_count": 126,
   "metadata": {},
   "outputs": [],
   "source": [
    "#Now we will do t-test for numerical independant variables against dependant categorical variable."
   ]
  },
  {
   "cell_type": "code",
   "execution_count": 127,
   "metadata": {},
   "outputs": [
    {
     "data": {
      "text/html": [
       "<div>\n",
       "<style scoped>\n",
       "    .dataframe tbody tr th:only-of-type {\n",
       "        vertical-align: middle;\n",
       "    }\n",
       "\n",
       "    .dataframe tbody tr th {\n",
       "        vertical-align: top;\n",
       "    }\n",
       "\n",
       "    .dataframe thead th {\n",
       "        text-align: right;\n",
       "    }\n",
       "</style>\n",
       "<table border=\"1\" class=\"dataframe\">\n",
       "  <thead>\n",
       "    <tr style=\"text-align: right;\">\n",
       "      <th></th>\n",
       "      <th>Is_Product_Details_viewed</th>\n",
       "      <th>Session_Activity_Count</th>\n",
       "      <th>No_Items_Added_InCart</th>\n",
       "      <th>No_Items_Removed_FromCart</th>\n",
       "      <th>No_Cart_Viewed</th>\n",
       "      <th>No_Checkout_Confirmed</th>\n",
       "      <th>No_Checkout_Initiated</th>\n",
       "      <th>No_Cart_Items_Viewed</th>\n",
       "      <th>No_Customer_Login</th>\n",
       "      <th>No_Page_Viewed</th>\n",
       "      <th>Customer_Segment_Type</th>\n",
       "      <th>Cart_Abandoned</th>\n",
       "    </tr>\n",
       "  </thead>\n",
       "  <tbody>\n",
       "    <tr>\n",
       "      <td>0</td>\n",
       "      <td>Yes</td>\n",
       "      <td>4</td>\n",
       "      <td>1</td>\n",
       "      <td>0.0</td>\n",
       "      <td>0</td>\n",
       "      <td>0</td>\n",
       "      <td>0</td>\n",
       "      <td>1.0</td>\n",
       "      <td>0</td>\n",
       "      <td>0</td>\n",
       "      <td>0</td>\n",
       "      <td>1</td>\n",
       "    </tr>\n",
       "    <tr>\n",
       "      <td>1</td>\n",
       "      <td>No</td>\n",
       "      <td>38</td>\n",
       "      <td>0</td>\n",
       "      <td>0.0</td>\n",
       "      <td>2</td>\n",
       "      <td>0</td>\n",
       "      <td>0</td>\n",
       "      <td>2.0</td>\n",
       "      <td>0</td>\n",
       "      <td>2</td>\n",
       "      <td>0</td>\n",
       "      <td>1</td>\n",
       "    </tr>\n",
       "    <tr>\n",
       "      <td>3</td>\n",
       "      <td>No</td>\n",
       "      <td>6</td>\n",
       "      <td>0</td>\n",
       "      <td>0.0</td>\n",
       "      <td>2</td>\n",
       "      <td>0</td>\n",
       "      <td>0</td>\n",
       "      <td>4.0</td>\n",
       "      <td>0</td>\n",
       "      <td>0</td>\n",
       "      <td>0</td>\n",
       "      <td>1</td>\n",
       "    </tr>\n",
       "    <tr>\n",
       "      <td>7</td>\n",
       "      <td>No</td>\n",
       "      <td>7</td>\n",
       "      <td>1</td>\n",
       "      <td>0.0</td>\n",
       "      <td>1</td>\n",
       "      <td>0</td>\n",
       "      <td>1</td>\n",
       "      <td>1.0</td>\n",
       "      <td>0</td>\n",
       "      <td>3</td>\n",
       "      <td>0</td>\n",
       "      <td>1</td>\n",
       "    </tr>\n",
       "    <tr>\n",
       "      <td>33</td>\n",
       "      <td>Yes</td>\n",
       "      <td>6</td>\n",
       "      <td>2</td>\n",
       "      <td>0.0</td>\n",
       "      <td>2</td>\n",
       "      <td>0</td>\n",
       "      <td>1</td>\n",
       "      <td>0.0</td>\n",
       "      <td>0</td>\n",
       "      <td>1</td>\n",
       "      <td>0</td>\n",
       "      <td>1</td>\n",
       "    </tr>\n",
       "    <tr>\n",
       "      <td>34</td>\n",
       "      <td>No</td>\n",
       "      <td>6</td>\n",
       "      <td>0</td>\n",
       "      <td>0.0</td>\n",
       "      <td>2</td>\n",
       "      <td>0</td>\n",
       "      <td>1</td>\n",
       "      <td>0.0</td>\n",
       "      <td>0</td>\n",
       "      <td>2</td>\n",
       "      <td>0</td>\n",
       "      <td>1</td>\n",
       "    </tr>\n",
       "    <tr>\n",
       "      <td>35</td>\n",
       "      <td>Yes</td>\n",
       "      <td>20</td>\n",
       "      <td>0</td>\n",
       "      <td>0.0</td>\n",
       "      <td>0</td>\n",
       "      <td>0</td>\n",
       "      <td>0</td>\n",
       "      <td>1.0</td>\n",
       "      <td>0</td>\n",
       "      <td>1</td>\n",
       "      <td>0</td>\n",
       "      <td>1</td>\n",
       "    </tr>\n",
       "    <tr>\n",
       "      <td>39</td>\n",
       "      <td>No</td>\n",
       "      <td>8</td>\n",
       "      <td>1</td>\n",
       "      <td>0.0</td>\n",
       "      <td>0</td>\n",
       "      <td>0</td>\n",
       "      <td>4</td>\n",
       "      <td>1.0</td>\n",
       "      <td>0</td>\n",
       "      <td>2</td>\n",
       "      <td>0</td>\n",
       "      <td>1</td>\n",
       "    </tr>\n",
       "    <tr>\n",
       "      <td>40</td>\n",
       "      <td>No</td>\n",
       "      <td>7</td>\n",
       "      <td>1</td>\n",
       "      <td>0.0</td>\n",
       "      <td>1</td>\n",
       "      <td>0</td>\n",
       "      <td>2</td>\n",
       "      <td>0.0</td>\n",
       "      <td>1</td>\n",
       "      <td>2</td>\n",
       "      <td>0</td>\n",
       "      <td>1</td>\n",
       "    </tr>\n",
       "    <tr>\n",
       "      <td>41</td>\n",
       "      <td>No</td>\n",
       "      <td>5</td>\n",
       "      <td>1</td>\n",
       "      <td>0.0</td>\n",
       "      <td>1</td>\n",
       "      <td>0</td>\n",
       "      <td>1</td>\n",
       "      <td>0.0</td>\n",
       "      <td>0</td>\n",
       "      <td>2</td>\n",
       "      <td>0</td>\n",
       "      <td>1</td>\n",
       "    </tr>\n",
       "  </tbody>\n",
       "</table>\n",
       "</div>"
      ],
      "text/plain": [
       "   Is_Product_Details_viewed  Session_Activity_Count  No_Items_Added_InCart  \\\n",
       "0                        Yes                       4                      1   \n",
       "1                         No                      38                      0   \n",
       "3                         No                       6                      0   \n",
       "7                         No                       7                      1   \n",
       "33                       Yes                       6                      2   \n",
       "34                        No                       6                      0   \n",
       "35                       Yes                      20                      0   \n",
       "39                        No                       8                      1   \n",
       "40                        No                       7                      1   \n",
       "41                        No                       5                      1   \n",
       "\n",
       "    No_Items_Removed_FromCart  No_Cart_Viewed  No_Checkout_Confirmed  \\\n",
       "0                         0.0               0                      0   \n",
       "1                         0.0               2                      0   \n",
       "3                         0.0               2                      0   \n",
       "7                         0.0               1                      0   \n",
       "33                        0.0               2                      0   \n",
       "34                        0.0               2                      0   \n",
       "35                        0.0               0                      0   \n",
       "39                        0.0               0                      0   \n",
       "40                        0.0               1                      0   \n",
       "41                        0.0               1                      0   \n",
       "\n",
       "    No_Checkout_Initiated   No_Cart_Items_Viewed  No_Customer_Login  \\\n",
       "0                        0                   1.0                  0   \n",
       "1                        0                   2.0                  0   \n",
       "3                        0                   4.0                  0   \n",
       "7                        1                   1.0                  0   \n",
       "33                       1                   0.0                  0   \n",
       "34                       1                   0.0                  0   \n",
       "35                       0                   1.0                  0   \n",
       "39                       4                   1.0                  0   \n",
       "40                       2                   0.0                  1   \n",
       "41                       1                   0.0                  0   \n",
       "\n",
       "    No_Page_Viewed  Customer_Segment_Type  Cart_Abandoned  \n",
       "0                0                      0               1  \n",
       "1                2                      0               1  \n",
       "3                0                      0               1  \n",
       "7                3                      0               1  \n",
       "33               1                      0               1  \n",
       "34               2                      0               1  \n",
       "35               1                      0               1  \n",
       "39               2                      0               1  \n",
       "40               2                      0               1  \n",
       "41               2                      0               1  "
      ]
     },
     "execution_count": 127,
     "metadata": {},
     "output_type": "execute_result"
    }
   ],
   "source": [
    "new.head(10)"
   ]
  },
  {
   "cell_type": "code",
   "execution_count": null,
   "metadata": {},
   "outputs": [],
   "source": [
    "#As there is an indexing problem that is non-uniform indexing I have to do seperately for each column:"
   ]
  },
  {
   "cell_type": "code",
   "execution_count": 151,
   "metadata": {},
   "outputs": [
    {
     "data": {
      "text/plain": [
       "[('Session_Activity_Count', 5.043459116175137, 5.039808771687535e-07),\n",
       " ('No_Items_Added_InCart', 0.1722819115734801, 0.8632355777326396),\n",
       " ('No_Items_Removed_FromCart', 0.31626479302517035, 0.7518387809092952),\n",
       " ('No_Cart_Viewed', 0.6851872432761302, 0.49331539110272327),\n",
       " ('No_Checkout_Confirmed', 116.98478566588278, 0.0),\n",
       " ('No_Checkout_Initiated ', 13.312690793199394, 1.3076871747495731e-38),\n",
       " ('No_Cart_Items_Viewed', -2.14808292010011, 0.031842377068421746),\n",
       " ('No_Customer_Login', 12.401393462126398, 6.282583022349119e-34),\n",
       " ('No_Page_Viewed', -0.6820090110770238, 0.4953223854087526)]"
      ]
     },
     "execution_count": 151,
     "metadata": {},
     "output_type": "execute_result"
    }
   ],
   "source": [
    "def ttest(columns):\n",
    "    x = []\n",
    "    y = []\n",
    "    k = []\n",
    "    z = new.Cart_Abandoned.tolist()\n",
    "    for a in columns:\n",
    "        for i,val in enumerate(new[a]):\n",
    "            if z[i]==0 :\n",
    "                x.append(val)\n",
    "            else:\n",
    "                y.append(val)\n",
    "        t, p = stats.ttest_ind(x,y)\n",
    "        k.append(tuple([a,t,p]))\n",
    "        x.clear()\n",
    "        y.clear()\n",
    "    return k\n",
    "j =ttest(numeric_features)\n",
    "j    \n"
   ]
  },
  {
   "cell_type": "code",
   "execution_count": 153,
   "metadata": {},
   "outputs": [
    {
     "data": {
      "text/html": [
       "<div>\n",
       "<style scoped>\n",
       "    .dataframe tbody tr th:only-of-type {\n",
       "        vertical-align: middle;\n",
       "    }\n",
       "\n",
       "    .dataframe tbody tr th {\n",
       "        vertical-align: top;\n",
       "    }\n",
       "\n",
       "    .dataframe thead th {\n",
       "        text-align: right;\n",
       "    }\n",
       "</style>\n",
       "<table border=\"1\" class=\"dataframe\">\n",
       "  <thead>\n",
       "    <tr style=\"text-align: right;\">\n",
       "      <th></th>\n",
       "      <th>Column Name against Target Variable</th>\n",
       "      <th>t-value</th>\n",
       "      <th>p_value</th>\n",
       "    </tr>\n",
       "  </thead>\n",
       "  <tbody>\n",
       "    <tr>\n",
       "      <td>0</td>\n",
       "      <td>Session_Activity_Count</td>\n",
       "      <td>5.043459</td>\n",
       "      <td>5.039809e-07</td>\n",
       "    </tr>\n",
       "    <tr>\n",
       "      <td>1</td>\n",
       "      <td>No_Items_Added_InCart</td>\n",
       "      <td>0.172282</td>\n",
       "      <td>8.632356e-01</td>\n",
       "    </tr>\n",
       "    <tr>\n",
       "      <td>2</td>\n",
       "      <td>No_Items_Removed_FromCart</td>\n",
       "      <td>0.316265</td>\n",
       "      <td>7.518388e-01</td>\n",
       "    </tr>\n",
       "    <tr>\n",
       "      <td>3</td>\n",
       "      <td>No_Cart_Viewed</td>\n",
       "      <td>0.685187</td>\n",
       "      <td>4.933154e-01</td>\n",
       "    </tr>\n",
       "    <tr>\n",
       "      <td>4</td>\n",
       "      <td>No_Checkout_Confirmed</td>\n",
       "      <td>116.984786</td>\n",
       "      <td>0.000000e+00</td>\n",
       "    </tr>\n",
       "    <tr>\n",
       "      <td>5</td>\n",
       "      <td>No_Checkout_Initiated</td>\n",
       "      <td>13.312691</td>\n",
       "      <td>1.307687e-38</td>\n",
       "    </tr>\n",
       "    <tr>\n",
       "      <td>6</td>\n",
       "      <td>No_Cart_Items_Viewed</td>\n",
       "      <td>-2.148083</td>\n",
       "      <td>3.184238e-02</td>\n",
       "    </tr>\n",
       "    <tr>\n",
       "      <td>7</td>\n",
       "      <td>No_Customer_Login</td>\n",
       "      <td>12.401393</td>\n",
       "      <td>6.282583e-34</td>\n",
       "    </tr>\n",
       "    <tr>\n",
       "      <td>8</td>\n",
       "      <td>No_Page_Viewed</td>\n",
       "      <td>-0.682009</td>\n",
       "      <td>4.953224e-01</td>\n",
       "    </tr>\n",
       "  </tbody>\n",
       "</table>\n",
       "</div>"
      ],
      "text/plain": [
       "  Column Name against Target Variable     t-value       p_value\n",
       "0              Session_Activity_Count    5.043459  5.039809e-07\n",
       "1               No_Items_Added_InCart    0.172282  8.632356e-01\n",
       "2           No_Items_Removed_FromCart    0.316265  7.518388e-01\n",
       "3                      No_Cart_Viewed    0.685187  4.933154e-01\n",
       "4               No_Checkout_Confirmed  116.984786  0.000000e+00\n",
       "5              No_Checkout_Initiated    13.312691  1.307687e-38\n",
       "6                No_Cart_Items_Viewed   -2.148083  3.184238e-02\n",
       "7                   No_Customer_Login   12.401393  6.282583e-34\n",
       "8                      No_Page_Viewed   -0.682009  4.953224e-01"
      ]
     },
     "execution_count": 153,
     "metadata": {},
     "output_type": "execute_result"
    }
   ],
   "source": [
    "df1 = pd.DataFrame(data = j,columns = [\"Column Name against Target Variable\",\"t-value\",\"p_value\"])\n",
    "df1"
   ]
  },
  {
   "cell_type": "markdown",
   "metadata": {},
   "source": [
    "# We can see from the above table for relevant numerical columns:\n",
    "#relevant columns are those whose p-value is less than 0.05:\n",
    "#1.Session_Activity_count\n",
    "#2.No_Checkout_Initiated\n",
    "#3.No_Cart_Items_Viewed\n",
    "#4.No_customer_Login\n",
    "#5.No_Checkout_Confirmed"
   ]
  },
  {
   "cell_type": "code",
   "execution_count": 157,
   "metadata": {},
   "outputs": [
    {
     "data": {
      "text/html": [
       "<div>\n",
       "<style scoped>\n",
       "    .dataframe tbody tr th:only-of-type {\n",
       "        vertical-align: middle;\n",
       "    }\n",
       "\n",
       "    .dataframe tbody tr th {\n",
       "        vertical-align: top;\n",
       "    }\n",
       "\n",
       "    .dataframe thead th {\n",
       "        text-align: right;\n",
       "    }\n",
       "</style>\n",
       "<table border=\"1\" class=\"dataframe\">\n",
       "  <thead>\n",
       "    <tr style=\"text-align: right;\">\n",
       "      <th></th>\n",
       "      <th>Session_Activity_Count</th>\n",
       "      <th>No_Checkout_Initiated</th>\n",
       "      <th>No_Cart_Items_Viewed</th>\n",
       "      <th>No_Customer_Login</th>\n",
       "      <th>No_Checkout_Confirmed</th>\n",
       "      <th>Is_Product_Details_viewed</th>\n",
       "      <th>Cart_Abandoned</th>\n",
       "    </tr>\n",
       "  </thead>\n",
       "  <tbody>\n",
       "    <tr>\n",
       "      <td>0</td>\n",
       "      <td>4</td>\n",
       "      <td>0</td>\n",
       "      <td>1.0</td>\n",
       "      <td>0</td>\n",
       "      <td>0</td>\n",
       "      <td>Yes</td>\n",
       "      <td>1</td>\n",
       "    </tr>\n",
       "    <tr>\n",
       "      <td>1</td>\n",
       "      <td>38</td>\n",
       "      <td>0</td>\n",
       "      <td>2.0</td>\n",
       "      <td>0</td>\n",
       "      <td>0</td>\n",
       "      <td>No</td>\n",
       "      <td>1</td>\n",
       "    </tr>\n",
       "    <tr>\n",
       "      <td>3</td>\n",
       "      <td>6</td>\n",
       "      <td>0</td>\n",
       "      <td>4.0</td>\n",
       "      <td>0</td>\n",
       "      <td>0</td>\n",
       "      <td>No</td>\n",
       "      <td>1</td>\n",
       "    </tr>\n",
       "    <tr>\n",
       "      <td>7</td>\n",
       "      <td>7</td>\n",
       "      <td>1</td>\n",
       "      <td>1.0</td>\n",
       "      <td>0</td>\n",
       "      <td>0</td>\n",
       "      <td>No</td>\n",
       "      <td>1</td>\n",
       "    </tr>\n",
       "    <tr>\n",
       "      <td>33</td>\n",
       "      <td>6</td>\n",
       "      <td>1</td>\n",
       "      <td>0.0</td>\n",
       "      <td>0</td>\n",
       "      <td>0</td>\n",
       "      <td>Yes</td>\n",
       "      <td>1</td>\n",
       "    </tr>\n",
       "    <tr>\n",
       "      <td>...</td>\n",
       "      <td>...</td>\n",
       "      <td>...</td>\n",
       "      <td>...</td>\n",
       "      <td>...</td>\n",
       "      <td>...</td>\n",
       "      <td>...</td>\n",
       "      <td>...</td>\n",
       "    </tr>\n",
       "    <tr>\n",
       "      <td>4262</td>\n",
       "      <td>10</td>\n",
       "      <td>0</td>\n",
       "      <td>1.0</td>\n",
       "      <td>0</td>\n",
       "      <td>0</td>\n",
       "      <td>Yes</td>\n",
       "      <td>1</td>\n",
       "    </tr>\n",
       "    <tr>\n",
       "      <td>4265</td>\n",
       "      <td>16</td>\n",
       "      <td>0</td>\n",
       "      <td>4.0</td>\n",
       "      <td>0</td>\n",
       "      <td>0</td>\n",
       "      <td>Yes</td>\n",
       "      <td>1</td>\n",
       "    </tr>\n",
       "    <tr>\n",
       "      <td>4268</td>\n",
       "      <td>10</td>\n",
       "      <td>2</td>\n",
       "      <td>2.0</td>\n",
       "      <td>0</td>\n",
       "      <td>1</td>\n",
       "      <td>No</td>\n",
       "      <td>0</td>\n",
       "    </tr>\n",
       "    <tr>\n",
       "      <td>4278</td>\n",
       "      <td>7</td>\n",
       "      <td>0</td>\n",
       "      <td>1.0</td>\n",
       "      <td>0</td>\n",
       "      <td>0</td>\n",
       "      <td>Yes</td>\n",
       "      <td>1</td>\n",
       "    </tr>\n",
       "    <tr>\n",
       "      <td>4280</td>\n",
       "      <td>7</td>\n",
       "      <td>0</td>\n",
       "      <td>1.0</td>\n",
       "      <td>0</td>\n",
       "      <td>0</td>\n",
       "      <td>No</td>\n",
       "      <td>1</td>\n",
       "    </tr>\n",
       "  </tbody>\n",
       "</table>\n",
       "<p>1774 rows × 7 columns</p>\n",
       "</div>"
      ],
      "text/plain": [
       "      Session_Activity_Count  No_Checkout_Initiated   No_Cart_Items_Viewed  \\\n",
       "0                          4                       0                   1.0   \n",
       "1                         38                       0                   2.0   \n",
       "3                          6                       0                   4.0   \n",
       "7                          7                       1                   1.0   \n",
       "33                         6                       1                   0.0   \n",
       "...                      ...                     ...                   ...   \n",
       "4262                      10                       0                   1.0   \n",
       "4265                      16                       0                   4.0   \n",
       "4268                      10                       2                   2.0   \n",
       "4278                       7                       0                   1.0   \n",
       "4280                       7                       0                   1.0   \n",
       "\n",
       "      No_Customer_Login  No_Checkout_Confirmed Is_Product_Details_viewed  \\\n",
       "0                     0                      0                       Yes   \n",
       "1                     0                      0                        No   \n",
       "3                     0                      0                        No   \n",
       "7                     0                      0                        No   \n",
       "33                    0                      0                       Yes   \n",
       "...                 ...                    ...                       ...   \n",
       "4262                  0                      0                       Yes   \n",
       "4265                  0                      0                       Yes   \n",
       "4268                  0                      1                        No   \n",
       "4278                  0                      0                       Yes   \n",
       "4280                  0                      0                        No   \n",
       "\n",
       "      Cart_Abandoned  \n",
       "0                  1  \n",
       "1                  1  \n",
       "3                  1  \n",
       "7                  1  \n",
       "33                 1  \n",
       "...              ...  \n",
       "4262               1  \n",
       "4265               1  \n",
       "4268               0  \n",
       "4278               1  \n",
       "4280               1  \n",
       "\n",
       "[1774 rows x 7 columns]"
      ]
     },
     "execution_count": 157,
     "metadata": {},
     "output_type": "execute_result"
    }
   ],
   "source": [
    "#Making final data set with only relevant features:\n",
    "final = new[[(\"Session_Activity_Count\"),(\"No_Checkout_Initiated \"),(\"No_Cart_Items_Viewed\"),(\"No_Customer_Login\"),(\"No_Checkout_Confirmed\"),(\"Is_Product_Details_viewed\"),(\"Cart_Abandoned\")]]\n",
    "final"
   ]
  },
  {
   "cell_type": "code",
   "execution_count": 162,
   "metadata": {},
   "outputs": [],
   "source": [
    "#Checking for correlation between independant variables\n",
    "final_numeric = final.select_dtypes(include = [\"int64\",\"float\"])\n",
    "final_numeric = final_numeric.drop(\"Cart_Abandoned\",axis =1)"
   ]
  },
  {
   "cell_type": "code",
   "execution_count": 163,
   "metadata": {},
   "outputs": [],
   "source": [
    "corr = final_numeric.corr()"
   ]
  },
  {
   "cell_type": "code",
   "execution_count": 164,
   "metadata": {},
   "outputs": [
    {
     "data": {
      "text/plain": [
       "<matplotlib.axes._subplots.AxesSubplot at 0x207534410f0>"
      ]
     },
     "execution_count": 164,
     "metadata": {},
     "output_type": "execute_result"
    },
    {
     "data": {
      "image/png": "[encoded data removed]",
      "text/plain": [
       "<Figure size 720x720 with 2 Axes>"
      ]
     },
     "metadata": {
      "needs_background": "light"
     },
     "output_type": "display_data"
    }
   ],
   "source": [
    "fig=plt.figure(figsize=(10,10))\n",
    "sns.heatmap(corr,annot=True,cmap='YlGnBu')"
   ]
  },
  {
   "cell_type": "markdown",
   "metadata": {},
   "source": [
    "# As we can see that there is irrelevant correlation among the independant variables so our final data set is good."
   ]
  },
  {
   "cell_type": "code",
   "execution_count": 168,
   "metadata": {},
   "outputs": [
    {
     "name": "stderr",
     "output_type": "stream",
     "text": [
      "c:\\users\\siddharth\\appdata\\local\\programs\\python\\python36\\lib\\site-packages\\pandas\\core\\generic.py:5208: SettingWithCopyWarning: \n",
      "A value is trying to be set on a copy of a slice from a DataFrame.\n",
      "Try using .loc[row_indexer,col_indexer] = value instead\n",
      "\n",
      "See the caveats in the documentation: http://pandas.pydata.org/pandas-docs/stable/user_guide/indexing.html#returning-a-view-versus-a-copy\n",
      "  self[name] = value\n"
     ]
    }
   ],
   "source": [
    "#Label Encoding for Is_Product_Details_Viewed:\n",
    "from sklearn.preprocessing import LabelEncoder\n",
    "details_viewed = LabelEncoder()\n",
    "final.Is_Product_Details_viewed = details_viewed.fit_transform(final.Is_Product_Details_viewed)"
   ]
  },
  {
   "cell_type": "code",
   "execution_count": 169,
   "metadata": {},
   "outputs": [
    {
     "data": {
      "text/html": [
       "<div>\n",
       "<style scoped>\n",
       "    .dataframe tbody tr th:only-of-type {\n",
       "        vertical-align: middle;\n",
       "    }\n",
       "\n",
       "    .dataframe tbody tr th {\n",
       "        vertical-align: top;\n",
       "    }\n",
       "\n",
       "    .dataframe thead th {\n",
       "        text-align: right;\n",
       "    }\n",
       "</style>\n",
       "<table border=\"1\" class=\"dataframe\">\n",
       "  <thead>\n",
       "    <tr style=\"text-align: right;\">\n",
       "      <th></th>\n",
       "      <th>Session_Activity_Count</th>\n",
       "      <th>No_Checkout_Initiated</th>\n",
       "      <th>No_Cart_Items_Viewed</th>\n",
       "      <th>No_Customer_Login</th>\n",
       "      <th>No_Checkout_Confirmed</th>\n",
       "      <th>Is_Product_Details_viewed</th>\n",
       "      <th>Cart_Abandoned</th>\n",
       "    </tr>\n",
       "  </thead>\n",
       "  <tbody>\n",
       "    <tr>\n",
       "      <td>0</td>\n",
       "      <td>4</td>\n",
       "      <td>0</td>\n",
       "      <td>1.0</td>\n",
       "      <td>0</td>\n",
       "      <td>0</td>\n",
       "      <td>1</td>\n",
       "      <td>1</td>\n",
       "    </tr>\n",
       "    <tr>\n",
       "      <td>1</td>\n",
       "      <td>38</td>\n",
       "      <td>0</td>\n",
       "      <td>2.0</td>\n",
       "      <td>0</td>\n",
       "      <td>0</td>\n",
       "      <td>0</td>\n",
       "      <td>1</td>\n",
       "    </tr>\n",
       "    <tr>\n",
       "      <td>3</td>\n",
       "      <td>6</td>\n",
       "      <td>0</td>\n",
       "      <td>4.0</td>\n",
       "      <td>0</td>\n",
       "      <td>0</td>\n",
       "      <td>0</td>\n",
       "      <td>1</td>\n",
       "    </tr>\n",
       "    <tr>\n",
       "      <td>7</td>\n",
       "      <td>7</td>\n",
       "      <td>1</td>\n",
       "      <td>1.0</td>\n",
       "      <td>0</td>\n",
       "      <td>0</td>\n",
       "      <td>0</td>\n",
       "      <td>1</td>\n",
       "    </tr>\n",
       "    <tr>\n",
       "      <td>33</td>\n",
       "      <td>6</td>\n",
       "      <td>1</td>\n",
       "      <td>0.0</td>\n",
       "      <td>0</td>\n",
       "      <td>0</td>\n",
       "      <td>1</td>\n",
       "      <td>1</td>\n",
       "    </tr>\n",
       "    <tr>\n",
       "      <td>34</td>\n",
       "      <td>6</td>\n",
       "      <td>1</td>\n",
       "      <td>0.0</td>\n",
       "      <td>0</td>\n",
       "      <td>0</td>\n",
       "      <td>0</td>\n",
       "      <td>1</td>\n",
       "    </tr>\n",
       "    <tr>\n",
       "      <td>35</td>\n",
       "      <td>20</td>\n",
       "      <td>0</td>\n",
       "      <td>1.0</td>\n",
       "      <td>0</td>\n",
       "      <td>0</td>\n",
       "      <td>1</td>\n",
       "      <td>1</td>\n",
       "    </tr>\n",
       "    <tr>\n",
       "      <td>39</td>\n",
       "      <td>8</td>\n",
       "      <td>4</td>\n",
       "      <td>1.0</td>\n",
       "      <td>0</td>\n",
       "      <td>0</td>\n",
       "      <td>0</td>\n",
       "      <td>1</td>\n",
       "    </tr>\n",
       "    <tr>\n",
       "      <td>40</td>\n",
       "      <td>7</td>\n",
       "      <td>2</td>\n",
       "      <td>0.0</td>\n",
       "      <td>1</td>\n",
       "      <td>0</td>\n",
       "      <td>0</td>\n",
       "      <td>1</td>\n",
       "    </tr>\n",
       "    <tr>\n",
       "      <td>41</td>\n",
       "      <td>5</td>\n",
       "      <td>1</td>\n",
       "      <td>0.0</td>\n",
       "      <td>0</td>\n",
       "      <td>0</td>\n",
       "      <td>0</td>\n",
       "      <td>1</td>\n",
       "    </tr>\n",
       "  </tbody>\n",
       "</table>\n",
       "</div>"
      ],
      "text/plain": [
       "    Session_Activity_Count  No_Checkout_Initiated   No_Cart_Items_Viewed  \\\n",
       "0                        4                       0                   1.0   \n",
       "1                       38                       0                   2.0   \n",
       "3                        6                       0                   4.0   \n",
       "7                        7                       1                   1.0   \n",
       "33                       6                       1                   0.0   \n",
       "34                       6                       1                   0.0   \n",
       "35                      20                       0                   1.0   \n",
       "39                       8                       4                   1.0   \n",
       "40                       7                       2                   0.0   \n",
       "41                       5                       1                   0.0   \n",
       "\n",
       "    No_Customer_Login  No_Checkout_Confirmed  Is_Product_Details_viewed  \\\n",
       "0                   0                      0                          1   \n",
       "1                   0                      0                          0   \n",
       "3                   0                      0                          0   \n",
       "7                   0                      0                          0   \n",
       "33                  0                      0                          1   \n",
       "34                  0                      0                          0   \n",
       "35                  0                      0                          1   \n",
       "39                  0                      0                          0   \n",
       "40                  1                      0                          0   \n",
       "41                  0                      0                          0   \n",
       "\n",
       "    Cart_Abandoned  \n",
       "0                1  \n",
       "1                1  \n",
       "3                1  \n",
       "7                1  \n",
       "33               1  \n",
       "34               1  \n",
       "35               1  \n",
       "39               1  \n",
       "40               1  \n",
       "41               1  "
      ]
     },
     "execution_count": 169,
     "metadata": {},
     "output_type": "execute_result"
    }
   ],
   "source": [
    "final.head(10)"
   ]
  },
  {
   "cell_type": "code",
   "execution_count": 232,
   "metadata": {},
   "outputs": [
    {
     "data": {
      "image/png": "[encoded data removed]",
      "text/plain": [
       "<Figure size 1440x1080 with 7 Axes>"
      ]
     },
     "metadata": {
      "needs_background": "light"
     },
     "output_type": "display_data"
    }
   ],
   "source": [
    "plt.figure(figsize = (20,15))\n",
    "for index,val in enumerate(final):\n",
    "    plt.subplot(3,3,index+1)\n",
    "    sns.distplot(final[val])"
   ]
  },
  {
   "cell_type": "markdown",
   "metadata": {},
   "source": [
    "## 4)MODEL BUILDING"
   ]
  },
  {
   "cell_type": "code",
   "execution_count": 211,
   "metadata": {},
   "outputs": [],
   "source": [
    "from sklearn.ensemble import RandomForestClassifier\n",
    "from sklearn.linear_model import LogisticRegression\n",
    "from sklearn.tree import DecisionTreeClassifier \n",
    "from sklearn.model_selection import train_test_split\n",
    "from sklearn.metrics import roc_curve, auc ,accuracy_score,cohen_kappa_score,confusion_matrix,classification_report,recall_score,precision_score"
   ]
  },
  {
   "cell_type": "code",
   "execution_count": 212,
   "metadata": {},
   "outputs": [],
   "source": [
    "# Create separate object for target variable\n",
    "y = final['Cart_Abandoned']\n",
    "\n",
    "# Create separate object for input features\n",
    "X = final.drop('Cart_Abandoned', axis=1)"
   ]
  },
  {
   "cell_type": "code",
   "execution_count": 213,
   "metadata": {},
   "outputs": [],
   "source": [
    "X_train, X_test, y_train, y_test  = train_test_split(X, y,\n",
    "                                                     test_size = 0.3,\n",
    "                                                     random_state = 1234) \n",
    "                                                     "
   ]
  },
  {
   "cell_type": "markdown",
   "metadata": {},
   "source": [
    "# BUILDING RANDOM FOREST MODEL:"
   ]
  },
  {
   "cell_type": "code",
   "execution_count": 215,
   "metadata": {},
   "outputs": [],
   "source": [
    "rf = RandomForestClassifier()"
   ]
  },
  {
   "cell_type": "code",
   "execution_count": 216,
   "metadata": {},
   "outputs": [
    {
     "name": "stderr",
     "output_type": "stream",
     "text": [
      "c:\\users\\siddharth\\appdata\\local\\programs\\python\\python36\\lib\\site-packages\\sklearn\\ensemble\\forest.py:245: FutureWarning: The default value of n_estimators will change from 10 in version 0.20 to 100 in 0.22.\n",
      "  \"10 in version 0.20 to 100 in 0.22.\", FutureWarning)\n"
     ]
    },
    {
     "data": {
      "text/plain": [
       "RandomForestClassifier(bootstrap=True, class_weight=None, criterion='gini',\n",
       "                       max_depth=None, max_features='auto', max_leaf_nodes=None,\n",
       "                       min_impurity_decrease=0.0, min_impurity_split=None,\n",
       "                       min_samples_leaf=1, min_samples_split=2,\n",
       "                       min_weight_fraction_leaf=0.0, n_estimators=10,\n",
       "                       n_jobs=None, oob_score=False, random_state=None,\n",
       "                       verbose=0, warm_start=False)"
      ]
     },
     "execution_count": 216,
     "metadata": {},
     "output_type": "execute_result"
    }
   ],
   "source": [
    "rf.fit(X_train,y_train)"
   ]
  },
  {
   "cell_type": "code",
   "execution_count": 217,
   "metadata": {},
   "outputs": [],
   "source": [
    "y_rf_pred = rf.predict(X_test)"
   ]
  },
  {
   "cell_type": "markdown",
   "metadata": {},
   "source": [
    "# BUILDING LOGISTIC REGRESSION MODEL:"
   ]
  },
  {
   "cell_type": "code",
   "execution_count": 219,
   "metadata": {},
   "outputs": [],
   "source": [
    "lg = LogisticRegression()"
   ]
  },
  {
   "cell_type": "code",
   "execution_count": 220,
   "metadata": {},
   "outputs": [
    {
     "name": "stderr",
     "output_type": "stream",
     "text": [
      "c:\\users\\siddharth\\appdata\\local\\programs\\python\\python36\\lib\\site-packages\\sklearn\\linear_model\\logistic.py:432: FutureWarning: Default solver will be changed to 'lbfgs' in 0.22. Specify a solver to silence this warning.\n",
      "  FutureWarning)\n"
     ]
    },
    {
     "data": {
      "text/plain": [
       "LogisticRegression(C=1.0, class_weight=None, dual=False, fit_intercept=True,\n",
       "                   intercept_scaling=1, l1_ratio=None, max_iter=100,\n",
       "                   multi_class='warn', n_jobs=None, penalty='l2',\n",
       "                   random_state=None, solver='warn', tol=0.0001, verbose=0,\n",
       "                   warm_start=False)"
      ]
     },
     "execution_count": 220,
     "metadata": {},
     "output_type": "execute_result"
    }
   ],
   "source": [
    "lg.fit(X_train,y_train)"
   ]
  },
  {
   "cell_type": "code",
   "execution_count": 221,
   "metadata": {},
   "outputs": [],
   "source": [
    "y_lg_pred = lg.predict(X_test)"
   ]
  },
  {
   "cell_type": "markdown",
   "metadata": {},
   "source": [
    "# BUILDING C4.5 DECISION TREES :"
   ]
  },
  {
   "cell_type": "code",
   "execution_count": 223,
   "metadata": {},
   "outputs": [],
   "source": [
    "dt = DecisionTreeClassifier(criterion=\"entropy\",max_depth=20)"
   ]
  },
  {
   "cell_type": "code",
   "execution_count": 224,
   "metadata": {},
   "outputs": [
    {
     "data": {
      "text/plain": [
       "DecisionTreeClassifier(class_weight=None, criterion='entropy', max_depth=20,\n",
       "                       max_features=None, max_leaf_nodes=None,\n",
       "                       min_impurity_decrease=0.0, min_impurity_split=None,\n",
       "                       min_samples_leaf=1, min_samples_split=2,\n",
       "                       min_weight_fraction_leaf=0.0, presort=False,\n",
       "                       random_state=None, splitter='best')"
      ]
     },
     "execution_count": 224,
     "metadata": {},
     "output_type": "execute_result"
    }
   ],
   "source": [
    "dt.fit(X_train,y_train)"
   ]
  },
  {
   "cell_type": "code",
   "execution_count": 225,
   "metadata": {},
   "outputs": [],
   "source": [
    "y_dt_pred = dt.predict(X_test)"
   ]
  },
  {
   "cell_type": "markdown",
   "metadata": {},
   "source": [
    "## Model Validation "
   ]
  },
  {
   "cell_type": "code",
   "execution_count": 226,
   "metadata": {},
   "outputs": [],
   "source": [
    "#Logistic Regression"
   ]
  },
  {
   "cell_type": "code",
   "execution_count": 227,
   "metadata": {},
   "outputs": [
    {
     "name": "stdout",
     "output_type": "stream",
     "text": [
      " accuracy is 0.987\n",
      " Kappa is 0.953424\n",
      " Sensitiviy is 0.986517\n",
      " Precision is 0.997727\n"
     ]
    }
   ],
   "source": [
    "print(\" accuracy is %2.3f\" % accuracy_score(y_test, y_lg_pred))\n",
    "print(\" Kappa is %f\" %cohen_kappa_score(y_test, y_lg_pred))\n",
    "print(\" Sensitiviy is %f\" %recall_score(y_test, y_lg_pred))\n",
    "print(\" Precision is %f\" %precision_score(y_test, y_lg_pred))"
   ]
  },
  {
   "cell_type": "markdown",
   "metadata": {},
   "source": [
    "# Random Forest"
   ]
  },
  {
   "cell_type": "code",
   "execution_count": 229,
   "metadata": {},
   "outputs": [
    {
     "name": "stdout",
     "output_type": "stream",
     "text": [
      " accuracy is 0.979\n",
      " Kappa is 0.924103\n",
      " Sensitiviy is 0.991011\n",
      " Precision is 0.984375\n"
     ]
    }
   ],
   "source": [
    "print(\" accuracy is %2.3f\" % accuracy_score(y_test, y_rf_pred))\n",
    "print(\" Kappa is %f\" %cohen_kappa_score(y_test, y_rf_pred))\n",
    "print(\" Sensitiviy is %f\" %recall_score(y_test, y_rf_pred))\n",
    "print(\" Precision is %f\" %precision_score(y_test, y_rf_pred))"
   ]
  },
  {
   "cell_type": "markdown",
   "metadata": {},
   "source": [
    "# Decision Trees"
   ]
  },
  {
   "cell_type": "code",
   "execution_count": 231,
   "metadata": {},
   "outputs": [
    {
     "name": "stdout",
     "output_type": "stream",
     "text": [
      " accuracy is 0.970\n",
      " Kappa is 0.888052\n",
      " Sensitiviy is 0.988764\n",
      " Precision is 0.975610\n"
     ]
    }
   ],
   "source": [
    "print(\" accuracy is %2.3f\" % accuracy_score(y_test, y_dt_pred))\n",
    "print(\" Kappa is %f\" %cohen_kappa_score(y_test, y_dt_pred))\n",
    "print(\" Sensitiviy is %f\" %recall_score(y_test, y_dt_pred))\n",
    "print(\" Precision is %f\" %precision_score(y_test, y_dt_pred))"
   ]
  },
  {
   "cell_type": "markdown",
   "metadata": {},
   "source": [
    "# Model Selection\n"
   ]
  },
  {
   "cell_type": "code",
   "execution_count": 240,
   "metadata": {},
   "outputs": [],
   "source": [
    "model_data= list()\n",
    "def model_building(model_name,model,X,y):\n",
    "    global model_data\n",
    "    data_list = list()\n",
    "    \n",
    "    X_train, X_test, y_train, y_test = train_test_split(X, y, test_size=0.33, random_state=42)\n",
    "    model.fit(X_train,y_train)\n",
    "    pred=model.predict(X_test)\n",
    "    \n",
    "    ###Metrics\n",
    "    acc=accuracy_score(y_test,pred)\n",
    "    confusion = pd.DataFrame(confusion_matrix(y_test,pred),\n",
    "                columns=[\"Predicted Class \" + str(class_name) for class_name in [0,1]],\n",
    "                index = [\"Actual Class \" + str(class_name) for class_name in [0,1]])\n",
    "   # report=classification_report(y_test,pred)\n",
    "    recall=recall_score(y_test,pred)\n",
    "    precision =precision_score(y_test,pred)\n",
    "    #F1Score=f1_score(y_test,pred)\n",
    "    Kappa=cohen_kappa_score(y_test,pred)\n",
    "    fpr, tpr, thresholds = roc_curve(y_test, pred)\n",
    "    AUC = auc(fpr,tpr)\n",
    "    \n",
    "    #Appending to a list\n",
    "    model_data.append(tuple([model_name,acc,recall,precision,Kappa,AUC]))\n",
    "    print(\"Confusion Matrix for {} \\n {}\".format(model_name,confusion))\n",
    "    #print(\"Classification report for {} \\n {}\".format(model_name,report)) \n",
    "    #print(model_data)\n",
    "    return"
   ]
  },
  {
   "cell_type": "code",
   "execution_count": 241,
   "metadata": {},
   "outputs": [
    {
     "name": "stdout",
     "output_type": "stream",
     "text": [
      "Confusion Matrix for RandomForestClassifier \n",
      "                 Predicted Class 0  Predicted Class 1\n",
      "Actual Class 0                 86                  6\n",
      "Actual Class 1                  6                488\n",
      "Confusion Matrix for DecisionTreeClassifier \n",
      "                 Predicted Class 0  Predicted Class 1\n",
      "Actual Class 0                 84                  8\n",
      "Actual Class 1                  7                487\n",
      "Confusion Matrix for Logistic Regression \n",
      "                 Predicted Class 0  Predicted Class 1\n",
      "Actual Class 0                 91                  1\n",
      "Actual Class 1                  7                487\n"
     ]
    },
    {
     "name": "stderr",
     "output_type": "stream",
     "text": [
      "c:\\users\\siddharth\\appdata\\local\\programs\\python\\python36\\lib\\site-packages\\sklearn\\linear_model\\logistic.py:432: FutureWarning: Default solver will be changed to 'lbfgs' in 0.22. Specify a solver to silence this warning.\n",
      "  FutureWarning)\n"
     ]
    }
   ],
   "source": [
    "model_names=[\"RandomForestClassifier\",\"DecisionTreeClassifier\",\"Logistic Regression\"]\n",
    "model_list=[RandomForestClassifier(n_estimators=100),DecisionTreeClassifier(),LogisticRegression()]\n",
    "for index,model in enumerate(model_list):\n",
    "    model_building(model_names[index],model,X,y)"
   ]
  },
  {
   "cell_type": "code",
   "execution_count": 242,
   "metadata": {},
   "outputs": [],
   "source": [
    "labels = ['ModelName','Accuracy',\"Recall\",\"Precision\",\"Kappa\",\"AUC\"]"
   ]
  },
  {
   "cell_type": "code",
   "execution_count": 243,
   "metadata": {},
   "outputs": [
    {
     "data": {
      "text/html": [
       "<div>\n",
       "<style scoped>\n",
       "    .dataframe tbody tr th:only-of-type {\n",
       "        vertical-align: middle;\n",
       "    }\n",
       "\n",
       "    .dataframe tbody tr th {\n",
       "        vertical-align: top;\n",
       "    }\n",
       "\n",
       "    .dataframe thead th {\n",
       "        text-align: right;\n",
       "    }\n",
       "</style>\n",
       "<table border=\"1\" class=\"dataframe\">\n",
       "  <thead>\n",
       "    <tr style=\"text-align: right;\">\n",
       "      <th></th>\n",
       "      <th>ModelName</th>\n",
       "      <th>Accuracy</th>\n",
       "      <th>Recall</th>\n",
       "      <th>Precision</th>\n",
       "      <th>Kappa</th>\n",
       "      <th>AUC</th>\n",
       "    </tr>\n",
       "  </thead>\n",
       "  <tbody>\n",
       "    <tr>\n",
       "      <td>2</td>\n",
       "      <td>Logistic Regression</td>\n",
       "      <td>0.986348</td>\n",
       "      <td>0.985830</td>\n",
       "      <td>0.997951</td>\n",
       "      <td>0.949758</td>\n",
       "      <td>0.987480</td>\n",
       "    </tr>\n",
       "    <tr>\n",
       "      <td>0</td>\n",
       "      <td>RandomForestClassifier</td>\n",
       "      <td>0.979522</td>\n",
       "      <td>0.987854</td>\n",
       "      <td>0.987854</td>\n",
       "      <td>0.922637</td>\n",
       "      <td>0.961318</td>\n",
       "    </tr>\n",
       "    <tr>\n",
       "      <td>1</td>\n",
       "      <td>DecisionTreeClassifier</td>\n",
       "      <td>0.974403</td>\n",
       "      <td>0.985830</td>\n",
       "      <td>0.983838</td>\n",
       "      <td>0.902866</td>\n",
       "      <td>0.949437</td>\n",
       "    </tr>\n",
       "  </tbody>\n",
       "</table>\n",
       "</div>"
      ],
      "text/plain": [
       "                ModelName  Accuracy    Recall  Precision     Kappa       AUC\n",
       "2     Logistic Regression  0.986348  0.985830   0.997951  0.949758  0.987480\n",
       "0  RandomForestClassifier  0.979522  0.987854   0.987854  0.922637  0.961318\n",
       "1  DecisionTreeClassifier  0.974403  0.985830   0.983838  0.902866  0.949437"
      ]
     },
     "execution_count": 243,
     "metadata": {},
     "output_type": "execute_result"
    }
   ],
   "source": [
    "model_details1=pd.DataFrame.from_records(model_data,columns=labels)\n",
    "model_details1.sort_values(by='Accuracy',ascending=False)"
   ]
  },
  {
   "cell_type": "code",
   "execution_count": 244,
   "metadata": {},
   "outputs": [],
   "source": [
    "#ACCORDING TO MODEL SELECTION EVERY MODEL IS GOOD AND LOGISTIC REGRESSION IS BEST FOR THIS DATA."
   ]
  },
  {
   "cell_type": "markdown",
   "metadata": {},
   "source": [
    "## CROSS VALIDATION USING RANDOM FOREST MODEL"
   ]
  },
  {
   "cell_type": "code",
   "execution_count": 245,
   "metadata": {},
   "outputs": [],
   "source": [
    "from sklearn.model_selection import cross_val_score"
   ]
  },
  {
   "cell_type": "code",
   "execution_count": 246,
   "metadata": {},
   "outputs": [
    {
     "name": "stdout",
     "output_type": "stream",
     "text": [
      "[0.97191011 0.97191011 0.96629213 0.98314607 0.99435028 0.98305085\n",
      " 0.96045198 0.97740113 0.98305085 0.98870056]\n",
      "Final Accuracy of the CV Model is : 0.9780264076683807\n"
     ]
    }
   ],
   "source": [
    "scores = cross_val_score(dt, X, y, cv=10, scoring='accuracy')\n",
    "print(scores)\n",
    "print(\"Final Accuracy of the CV Model is :\",scores.mean())"
   ]
  },
  {
   "cell_type": "markdown",
   "metadata": {},
   "source": [
    "### OPTIMAL K"
   ]
  },
  {
   "cell_type": "code",
   "execution_count": 248,
   "metadata": {},
   "outputs": [],
   "source": [
    "k_range = range(2, 31)\n",
    "k_scores = []\n",
    "\n",
    "for k in k_range:\n",
    "    dt = DecisionTreeClassifier()\n",
    "    scores = cross_val_score(dt, X, y, cv=k, scoring='accuracy')\n",
    "    k_scores.append(tuple([k,scores.mean()]))\n",
    "\n"
   ]
  },
  {
   "cell_type": "code",
   "execution_count": 249,
   "metadata": {},
   "outputs": [
    {
     "data": {
      "text/html": [
       "<div>\n",
       "<style scoped>\n",
       "    .dataframe tbody tr th:only-of-type {\n",
       "        vertical-align: middle;\n",
       "    }\n",
       "\n",
       "    .dataframe tbody tr th {\n",
       "        vertical-align: top;\n",
       "    }\n",
       "\n",
       "    .dataframe thead th {\n",
       "        text-align: right;\n",
       "    }\n",
       "</style>\n",
       "<table border=\"1\" class=\"dataframe\">\n",
       "  <thead>\n",
       "    <tr style=\"text-align: right;\">\n",
       "      <th></th>\n",
       "      <th>K</th>\n",
       "      <th>Accuracy</th>\n",
       "    </tr>\n",
       "  </thead>\n",
       "  <tbody>\n",
       "    <tr>\n",
       "      <td>9</td>\n",
       "      <td>11</td>\n",
       "      <td>0.978588</td>\n",
       "    </tr>\n",
       "    <tr>\n",
       "      <td>3</td>\n",
       "      <td>5</td>\n",
       "      <td>0.978017</td>\n",
       "    </tr>\n",
       "    <tr>\n",
       "      <td>13</td>\n",
       "      <td>15</td>\n",
       "      <td>0.977468</td>\n",
       "    </tr>\n",
       "    <tr>\n",
       "      <td>5</td>\n",
       "      <td>7</td>\n",
       "      <td>0.977458</td>\n",
       "    </tr>\n",
       "    <tr>\n",
       "      <td>2</td>\n",
       "      <td>4</td>\n",
       "      <td>0.977450</td>\n",
       "    </tr>\n",
       "    <tr>\n",
       "      <td>8</td>\n",
       "      <td>10</td>\n",
       "      <td>0.976893</td>\n",
       "    </tr>\n",
       "    <tr>\n",
       "      <td>4</td>\n",
       "      <td>6</td>\n",
       "      <td>0.976890</td>\n",
       "    </tr>\n",
       "    <tr>\n",
       "      <td>17</td>\n",
       "      <td>19</td>\n",
       "      <td>0.976339</td>\n",
       "    </tr>\n",
       "    <tr>\n",
       "      <td>6</td>\n",
       "      <td>8</td>\n",
       "      <td>0.976326</td>\n",
       "    </tr>\n",
       "    <tr>\n",
       "      <td>15</td>\n",
       "      <td>17</td>\n",
       "      <td>0.975780</td>\n",
       "    </tr>\n",
       "    <tr>\n",
       "      <td>1</td>\n",
       "      <td>3</td>\n",
       "      <td>0.975762</td>\n",
       "    </tr>\n",
       "    <tr>\n",
       "      <td>21</td>\n",
       "      <td>23</td>\n",
       "      <td>0.975235</td>\n",
       "    </tr>\n",
       "    <tr>\n",
       "      <td>28</td>\n",
       "      <td>30</td>\n",
       "      <td>0.975217</td>\n",
       "    </tr>\n",
       "    <tr>\n",
       "      <td>16</td>\n",
       "      <td>18</td>\n",
       "      <td>0.975204</td>\n",
       "    </tr>\n",
       "    <tr>\n",
       "      <td>10</td>\n",
       "      <td>12</td>\n",
       "      <td>0.975202</td>\n",
       "    </tr>\n",
       "    <tr>\n",
       "      <td>7</td>\n",
       "      <td>9</td>\n",
       "      <td>0.975186</td>\n",
       "    </tr>\n",
       "    <tr>\n",
       "      <td>12</td>\n",
       "      <td>14</td>\n",
       "      <td>0.975186</td>\n",
       "    </tr>\n",
       "    <tr>\n",
       "      <td>24</td>\n",
       "      <td>26</td>\n",
       "      <td>0.975184</td>\n",
       "    </tr>\n",
       "    <tr>\n",
       "      <td>25</td>\n",
       "      <td>27</td>\n",
       "      <td>0.975177</td>\n",
       "    </tr>\n",
       "    <tr>\n",
       "      <td>20</td>\n",
       "      <td>22</td>\n",
       "      <td>0.974675</td>\n",
       "    </tr>\n",
       "    <tr>\n",
       "      <td>27</td>\n",
       "      <td>29</td>\n",
       "      <td>0.974659</td>\n",
       "    </tr>\n",
       "    <tr>\n",
       "      <td>23</td>\n",
       "      <td>25</td>\n",
       "      <td>0.974648</td>\n",
       "    </tr>\n",
       "    <tr>\n",
       "      <td>18</td>\n",
       "      <td>20</td>\n",
       "      <td>0.974636</td>\n",
       "    </tr>\n",
       "    <tr>\n",
       "      <td>19</td>\n",
       "      <td>21</td>\n",
       "      <td>0.974623</td>\n",
       "    </tr>\n",
       "    <tr>\n",
       "      <td>26</td>\n",
       "      <td>28</td>\n",
       "      <td>0.974602</td>\n",
       "    </tr>\n",
       "    <tr>\n",
       "      <td>14</td>\n",
       "      <td>16</td>\n",
       "      <td>0.974083</td>\n",
       "    </tr>\n",
       "    <tr>\n",
       "      <td>11</td>\n",
       "      <td>13</td>\n",
       "      <td>0.974073</td>\n",
       "    </tr>\n",
       "    <tr>\n",
       "      <td>22</td>\n",
       "      <td>24</td>\n",
       "      <td>0.974072</td>\n",
       "    </tr>\n",
       "    <tr>\n",
       "      <td>0</td>\n",
       "      <td>2</td>\n",
       "      <td>0.972379</td>\n",
       "    </tr>\n",
       "  </tbody>\n",
       "</table>\n",
       "</div>"
      ],
      "text/plain": [
       "     K  Accuracy\n",
       "9   11  0.978588\n",
       "3    5  0.978017\n",
       "13  15  0.977468\n",
       "5    7  0.977458\n",
       "2    4  0.977450\n",
       "8   10  0.976893\n",
       "4    6  0.976890\n",
       "17  19  0.976339\n",
       "6    8  0.976326\n",
       "15  17  0.975780\n",
       "1    3  0.975762\n",
       "21  23  0.975235\n",
       "28  30  0.975217\n",
       "16  18  0.975204\n",
       "10  12  0.975202\n",
       "7    9  0.975186\n",
       "12  14  0.975186\n",
       "24  26  0.975184\n",
       "25  27  0.975177\n",
       "20  22  0.974675\n",
       "27  29  0.974659\n",
       "23  25  0.974648\n",
       "18  20  0.974636\n",
       "19  21  0.974623\n",
       "26  28  0.974602\n",
       "14  16  0.974083\n",
       "11  13  0.974073\n",
       "22  24  0.974072\n",
       "0    2  0.972379"
      ]
     },
     "execution_count": 249,
     "metadata": {},
     "output_type": "execute_result"
    }
   ],
   "source": [
    "labels = [\"K\",\"Accuracy\"]\n",
    "cv_details=pd.DataFrame.from_records(k_scores,columns=labels)\n",
    "cv_details.sort_values(by='Accuracy',ascending=False)"
   ]
  },
  {
   "cell_type": "markdown",
   "metadata": {},
   "source": [
    "# OPTIMAL NUMBER OF FOLDS SHOULD BE EQUAL TO = 5."
   ]
  }
 ],
 "metadata": {
  "kernelspec": {
   "display_name": "Python 3",
   "language": "python",
   "name": "python3"
  },
  "language_info": {
   "codemirror_mode": {
    "name": "ipython",
    "version": 3
   },
   "file_extension": ".py",
   "mimetype": "text/x-python",
   "name": "python",
   "nbconvert_exporter": "python",
   "pygments_lexer": "ipython3",
   "version": "3.6.5"
  }
 },
 "nbformat": 4,
 "nbformat_minor": 2
}
